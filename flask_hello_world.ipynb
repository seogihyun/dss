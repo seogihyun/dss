{
 "cells": [
  {
   "cell_type": "markdown",
   "metadata": {},
   "source": [
    "### Flask\n",
    "- 파이썬 코드를 사용하는 웹 프레임워크 입니다.\n",
    "- https://blog.miguelgrinberg.com/post/the-flask-mega-tutorial-part-i-hello-world\n",
    "- install\n",
    "    - pip install flask"
   ]
  },
  {
   "cell_type": "markdown",
   "metadata": {},
   "source": [
    "#### 1. 프로젝트 생성\n",
    "- hello"
   ]
  },
  {
   "cell_type": "code",
   "execution_count": 1,
   "metadata": {},
   "outputs": [
    {
     "name": "stdout",
     "output_type": "stream",
     "text": [
      "\u001b[01;34mhello\u001b[00m\r\n",
      "├── hello.py\r\n",
      "├── \u001b[01;34mstatic\u001b[00m\r\n",
      "└── \u001b[01;34mtemplates\u001b[00m\r\n",
      "    └── index.html\r\n",
      "\r\n",
      "2 directories, 2 files\r\n"
     ]
    }
   ],
   "source": [
    "!mkdir -p hello/static\n",
    "!mkdir -p hello/templates\n",
    "!touch hello/hello.py\n",
    "!touch hello/templates/index.html\n",
    "!tree hello"
   ]
  },
  {
   "cell_type": "markdown",
   "metadata": {},
   "source": [
    "- hello.py : app 객체를 생성, route 설정\n",
    "- static : js, css, image파일 등을 저장\n",
    "- templates : html 코드를 저장"
   ]
  },
  {
   "cell_type": "code",
   "execution_count": 13,
   "metadata": {},
   "outputs": [
    {
     "name": "stdout",
     "output_type": "stream",
     "text": [
      "Overwriting hello/hello.py\n"
     ]
    }
   ],
   "source": [
    "%%writefile hello/hello.py\n",
    "from flask import *\n",
    "\n",
    "app = Flask(__name__)\n",
    "\n",
    "@app.route(\"/\")\n",
    "def hello():\n",
    "    return \"Hello Flask\"\n",
    "\n",
    "@app.route('/user/<name>')\n",
    "def user(name):    \n",
    "    return render_template('index.html', name=name)\n",
    "\n",
    "@app.route('/api/data')\n",
    "def api_data():\n",
    "    data = {\"alice\":25, \"andy\":35}\n",
    "    return jsonify(data)\n",
    "\n",
    "app.run(debug=True)"
   ]
  },
  {
   "cell_type": "code",
   "execution_count": 19,
   "metadata": {},
   "outputs": [
    {
     "name": "stdout",
     "output_type": "stream",
     "text": [
      "Overwriting hello/templates/index.html\n"
     ]
    }
   ],
   "source": [
    "%%writefile hello/templates/index.html\n",
    "<!DOCTYPE html>\n",
    "<html>\n",
    "<head>\n",
    "    <meta charset=\"utf-8\">\n",
    "    <title>Hello Flask</title>\n",
    "</head>\n",
    "<body>\n",
    "    Hello {{name}}\n",
    "    <button class=\"result\">Click!!</button>\n",
    "    <div class=\"data\"></div>\n",
    "    <script src=\"https://cdnjs.cloudflare.com/ajax/libs/jquery/3.4.1/jquery.js\"></script>\n",
    "    <script type=\"text/javascript\">\n",
    "        $(document).ready(function(){\n",
    "            $('.result').on('click', function(){\n",
    "                $.getJSON(\"/api/data\", function(data){\n",
    "                    console.log(data);\n",
    "                    var tag = \"<p>alice:\" + data.alice + \"</p>\";\n",
    "                        tag += \"<p>andy:\" + data.andy + \"</p>\";\n",
    "                    $(\".data\").append(tag);\n",
    "                })\n",
    "            })\n",
    "        })\n",
    "    </script>\n",
    "    \n",
    "</body>\n",
    "\n",
    "</html>"
   ]
  },
  {
   "cell_type": "code",
   "execution_count": null,
   "metadata": {},
   "outputs": [
    {
     "name": "stdout",
     "output_type": "stream",
     "text": [
      " * Serving Flask app \"hello\" (lazy loading)\n",
      " * Environment: production\n",
      "\u001b[31m   WARNING: This is a development server. Do not use it in a production deployment.\u001b[0m\n",
      "\u001b[2m   Use a production WSGI server instead.\u001b[0m\n",
      " * Debug mode: on\n",
      " * Running on http://127.0.0.1:5000/ (Press CTRL+C to quit)\n",
      " * Restarting with stat\n",
      " * Debugger is active!\n",
      " * Debugger PIN: 340-003-217\n",
      "127.0.0.1 - - [28/Nov/2019 15:53:54] \"\u001b[37mGET /user/andy HTTP/1.1\u001b[0m\" 200 -\n",
      "127.0.0.1 - - [28/Nov/2019 15:53:56] \"\u001b[37mGET /api/data HTTP/1.1\u001b[0m\" 200 -\n"
     ]
    }
   ],
   "source": [
    "!python hello/hello.py"
   ]
  },
  {
   "cell_type": "code",
   "execution_count": null,
   "metadata": {},
   "outputs": [],
   "source": []
  },
  {
   "cell_type": "code",
   "execution_count": null,
   "metadata": {},
   "outputs": [],
   "source": []
  },
  {
   "cell_type": "code",
   "execution_count": null,
   "metadata": {},
   "outputs": [],
   "source": []
  },
  {
   "cell_type": "code",
   "execution_count": null,
   "metadata": {},
   "outputs": [],
   "source": []
  }
 ],
 "metadata": {
  "kernelspec": {
   "display_name": "Python 3",
   "language": "python",
   "name": "python3"
  },
  "language_info": {
   "codemirror_mode": {
    "name": "ipython",
    "version": 3
   },
   "file_extension": ".py",
   "mimetype": "text/x-python",
   "name": "python",
   "nbconvert_exporter": "python",
   "pygments_lexer": "ipython3",
   "version": "3.8.3"
  }
 },
 "nbformat": 4,
 "nbformat_minor": 2
}
