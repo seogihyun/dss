{
 "cells": [
  {
   "cell_type": "markdown",
   "metadata": {
    "id": "JnwHlFH-wFyn"
   },
   "source": [
    "### xpath\n",
    "- html element를 선택하는 방법\n",
    "- scrapy에서는 기본적으로 xpath를 사용해서 element를 선택\n",
    "- install scrapy\n",
    "    - `$ pip install scrapy`"
   ]
  },
  {
   "cell_type": "code",
   "execution_count": null,
   "metadata": {
    "id": "Aok32r-HwFyo"
   },
   "outputs": [],
   "source": [
    "import scrapy"
   ]
  },
  {
   "cell_type": "code",
   "execution_count": null,
   "metadata": {
    "id": "UoldqekhwFyr"
   },
   "outputs": [],
   "source": [
    "import requests\n",
    "from scrapy.http import TextResponse"
   ]
  },
  {
   "cell_type": "code",
   "execution_count": null,
   "metadata": {
    "id": "0Sa1Af1swFyw"
   },
   "outputs": [],
   "source": [
    "# 웹 페이지에 연결\n",
    "url = 'https://search.naver.com/search.naver?query=삼성전자\n",
    "'\n",
    "req = requests.get(url)\n",
    "\n",
    "# response 객체 생성\n",
    "response = TextResponse(req.url, body=req.text, encoding='utf-8')"
   ]
  },
  {
   "cell_type": "markdown",
   "metadata": {
    "id": "2XlTaFLTwFyy"
   },
   "source": [
    "xpath를 이용하여 특정 selector 객체 가져옴\n",
    "- xpath : xpath 데이터\n",
    "- data : xpath에서 선택된 위치의 데이터\n",
    "\n",
    "- `//*[@id=\"PM_ID_ct\"]/div[1]/div[2]/div[2]/div[1]/div/ul/li[16]/a/span[2]`"
   ]
  },
  {
   "cell_type": "markdown",
   "metadata": {
    "id": "mZb_D2CIwFyz"
   },
   "source": [
    "- `//` : 가장 상위 Element\n",
    "- `.` : 현재 Element\n",
    "- `*` : 조건에 맞는 앞부분의 하위 Element를 모두 살펴봄 ( css selector에서 한칸 띄기와 같음 )\n",
    "- `/` : 바로 아래 요소 ( css selector에서 > 와 같음 )\n",
    "- `element[조건]`\n",
    "    - p[2] : p element의 두번째 element : index가 0이 아닌 1부터 시작\n",
    "    - [@(attribute key)=\"(attribute value)\"]\n",
    "    - [@id=\"email\"] : 아이디 값이 email인 element\n",
    "    - [@class=\"pw\"] : 클래스 값이 pw인 element\n",
    "- `not`\n",
    "    - not(조건) : 조건이 아닌 요소를 찾음"
   ]
  },
  {
   "cell_type": "code",
   "execution_count": null,
   "metadata": {
    "id": "knOr9SpMwFy0",
    "outputId": "f967985b-cea2-499f-e79b-ef8072fbc57a"
   },
   "outputs": [
    {
     "data": {
      "text/plain": [
       "[<Selector xpath='//*[@id=\"nx_right_related_keywords\"]/div/div[2]/ul/li' data='<li class=\"item\"> <a class=\"keyword\" ...'>,\n",
       " <Selector xpath='//*[@id=\"nx_right_related_keywords\"]/div/div[2]/ul/li' data='<li class=\"item\"> <a class=\"keyword\" ...'>]"
      ]
     },
     "execution_count": 5,
     "metadata": {
      "tags": []
     },
     "output_type": "execute_result"
    }
   ],
   "source": [
    "# 연관검색어 데이터 가져오기\n",
    "response.xpath('//*[@id=\"nx_right_related_keywords\"]/div/div[2]/ul/li')[:2]"
   ]
  },
  {
   "cell_type": "code",
   "execution_count": null,
   "metadata": {
    "id": "DlqYBJAdwFy3",
    "outputId": "9d918965-4549-4906-d4f4-96ef5c2a0efa"
   },
   "outputs": [
    {
     "data": {
      "text/plain": [
       "[<Selector xpath='//*[@id=\"nx_right_related_keywords\"]/div/div[2]/ul/li[1]/a/div/text()' data='삼성전자우'>]"
      ]
     },
     "execution_count": 13,
     "metadata": {
      "tags": []
     },
     "output_type": "execute_result"
    }
   ],
   "source": [
    "# text\n",
    "# xpath 가장 뒤에 text() 함수를 작성하면 text 데이터가 있는 object로 변경\n",
    "response.xpath('//*[@id=\"nx_right_related_keywords\"]/div/div[2]/ul/li[1]/a/div/text()')"
   ]
  },
  {
   "cell_type": "code",
   "execution_count": null,
   "metadata": {
    "id": "axod-46CwFy5",
    "outputId": "bf3bf20e-7fc6-4364-9b5c-71aac80f6589"
   },
   "outputs": [
    {
     "data": {
      "text/plain": [
       "['삼성전자우']"
      ]
     },
     "execution_count": 15,
     "metadata": {
      "tags": []
     },
     "output_type": "execute_result"
    }
   ],
   "source": [
    "# extract\n",
    "# xpath로 select된 element의 데이터를 문자열 리스트로 가져옴\n",
    "response.xpath('//*[@id=\"nx_right_related_keywords\"]/div/div[2]/ul/li[1]/a/div/text()').extract()"
   ]
  },
  {
   "cell_type": "markdown",
   "metadata": {
    "id": "-xcouuY6wFy8"
   },
   "source": [
    "##### 여러개 selecte 해서 데이터 가져오기\n",
    "- 네이버 연관검색 키워드"
   ]
  },
  {
   "cell_type": "code",
   "execution_count": null,
   "metadata": {
    "id": "W9FGPMLGwFy8",
    "outputId": "ae75acc3-8026-4b3f-86d4-01e51744f81f"
   },
   "outputs": [
    {
     "data": {
      "text/plain": [
       "10"
      ]
     },
     "execution_count": 16,
     "metadata": {
      "tags": []
     },
     "output_type": "execute_result"
    }
   ],
   "source": [
    "naver_keywords = response.xpath('//*[@id=\"nx_right_related_keywords\"]/div/div[2]/ul/li')\n",
    "len(naver_keywords)"
   ]
  },
  {
   "cell_type": "code",
   "execution_count": null,
   "metadata": {
    "id": "dmLubB1QwFzA",
    "outputId": "b77fb584-5b08-457a-f66c-79c922b8d304"
   },
   "outputs": [
    {
     "name": "stdout",
     "output_type": "stream",
     "text": [
      "['삼성전자우', '삼성', '카카오', '삼성물산', 'sk 하이닉스', '현대자동차', '현대차', '네이버', '빅히트', '삼성sdi']\n"
     ]
    }
   ],
   "source": [
    "naver_keywords = naver_keywords.xpath('./a/div/text()').extract()\n",
    "print(naver_keywords)"
   ]
  },
  {
   "cell_type": "code",
   "execution_count": null,
   "metadata": {
    "id": "cejoFXNSwFzE",
    "outputId": "6a6328b3-3ce4-482e-d290-12ab5c49fb06"
   },
   "outputs": [
    {
     "name": "stdout",
     "output_type": "stream",
     "text": [
      "['삼성전자우', '삼성', '카카오', '삼성물산', 'sk 하이닉스', '현대자동차', '현대차', '네이버', '빅히트', '삼성sdi']\n"
     ]
    }
   ],
   "source": [
    "# xpath selector 한번에 작성 : for문을 사용하지 않아도 됩니다.\n",
    "naver_keywords = response.xpath('//*[@id=\"nx_right_related_keywords\"]/div/div[2]/ul/li/a/div/text()').extract()\n",
    "print(naver_keywords)"
   ]
  },
  {
   "cell_type": "code",
   "execution_count": null,
   "metadata": {
    "id": "qvl7ZitUwFzG"
   },
   "outputs": [],
   "source": [
    "# BeautifulSoup 사용"
   ]
  },
  {
   "cell_type": "code",
   "execution_count": null,
   "metadata": {
    "id": "ynv2wIOmwFzI",
    "outputId": "c89e9a1b-8215-44a1-8ccc-eeeb973159fb"
   },
   "outputs": [
    {
     "data": {
      "text/plain": [
       "10"
      ]
     },
     "execution_count": 1,
     "metadata": {
      "tags": []
     },
     "output_type": "execute_result"
    }
   ],
   "source": [
    "response = requests.get('https://search.naver.com/search.naver?query=삼성전자')\n",
    "dom = BeautifulSoup(response.content, \"html.parser\")\n",
    "elements = dom.select(\"#nx_right_related_keywords > div > div.related_srch > ul > li\")\n",
    "len(elements)"
   ]
  },
  {
   "cell_type": "code",
   "execution_count": null,
   "metadata": {
    "id": "CX4-frXKwFzL",
    "outputId": "0cd6264c-11e1-42c0-ced5-bb4a468e39fb"
   },
   "outputs": [
    {
     "name": "stdout",
     "output_type": "stream",
     "text": [
      "['삼성전자우', '삼성', '카카오', '삼성물산', 'sk 하이닉스', '현대자동차', '현대차', '네이버', '빅히트', '삼성sdi']\n"
     ]
    }
   ],
   "source": [
    "keywords = []\n",
    "\n",
    "for element in elements:\n",
    "    keywords.append(element.text.strip())\n",
    "    \n",
    "print(keywords)"
   ]
  }
 ],
 "metadata": {
  "colab": {
   "name": "02_xpath.ipynb",
   "provenance": []
  },
  "kernelspec": {
   "display_name": "Python 3",
   "language": "python",
   "name": "python3"
  },
  "language_info": {
   "codemirror_mode": {
    "name": "ipython",
    "version": 3
   },
   "file_extension": ".py",
   "mimetype": "text/x-python",
   "name": "python",
   "nbconvert_exporter": "python",
   "pygments_lexer": "ipython3",
   "version": "3.8.3"
  }
 },
 "nbformat": 4,
 "nbformat_minor": 1
}
