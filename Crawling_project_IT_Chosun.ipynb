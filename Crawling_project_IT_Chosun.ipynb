{
 "cells": [
  {
   "cell_type": "code",
   "execution_count": 1,
   "metadata": {},
   "outputs": [],
   "source": [
    "import requests\n",
    "import pandas as pd\n",
    "import time\n",
    "from bs4 import BeautifulSoup"
   ]
  },
  {
   "cell_type": "code",
   "execution_count": 2,
   "metadata": {},
   "outputs": [],
   "source": [
    "page = 1\n",
    "url = \"http://it.chosun.com/svc/list_in/list.html?catid=A&pn={}\".format(page)\n",
    "response = requests.get(url)\n",
    "html = response.text\n",
    "dom = BeautifulSoup(html, 'html.parser')"
   ]
  },
  {
   "cell_type": "code",
   "execution_count": 17,
   "metadata": {},
   "outputs": [],
   "source": [
    "title = dom.select(\"#contents > div.left_area > div.thumb_news > ul > li > div.txt_wrap > a > span\")\n",
    "link = dom.select('#contents > div.left_area > div.thumb_news > ul > li > div.txt_wrap > a')\n",
    "# content = dom.select(\"body > main > div > div > div > article > p\")\n",
    "date = dom.select(\"#contents > div.left_area > div.thumb_news > ul > li > div.txt_wrap > div > div > span.date\")"
   ]
  },
  {
   "cell_type": "code",
   "execution_count": 18,
   "metadata": {},
   "outputs": [
    {
     "data": {
      "text/plain": [
       "(19, 19, 19)"
      ]
     },
     "execution_count": 18,
     "metadata": {},
     "output_type": "execute_result"
    }
   ],
   "source": [
    "len(title), len(link), len(date)"
   ]
  },
  {
   "cell_type": "code",
   "execution_count": 20,
   "metadata": {},
   "outputs": [
    {
     "data": {
      "text/plain": [
       "['이루다마케팅, 서울벤처스와 애드테크 사업 MOU 체결',\n",
       " '10대 전용 SNS ‘오잉’, Mnet 오디션 프로 ‘캡틴’ 투표 채널 선정',\n",
       " '티르티르 ‘도자기 코어 크림’, CJ오쇼핑 론칭 앞두고 ‘미리 주문’ 오픈',\n",
       " \"리앤블락 '사디나스(SARDINAS)', 16일 프로비트(ProBit) 상장\",\n",
       " 'AR 뷰티 플랫폼 ‘티커(Ticker)’, 메이투(Meitu)와 기술협약 체결',\n",
       " '조선미디어그룹 IT조선이 인공지능 시대를 이끌 인턴기자를 찾습니다',\n",
       " '아지앙스코리아, 조사 전문기관 글로벌리서치와 MOU 체결',\n",
       " '리앤블락, 12월 두바이 온라인 컨퍼런스서 국제암호화폐거래소 ‘코인아크’ 선봬',\n",
       " '한국오키시스템즈, ‘K-PRINT 2020’ 및 ‘KOSIGN 2020’ 전시회 참가',\n",
       " '맥스틸, ‘TRON G20 PRO’ & ‘RATIO S20’ 게이밍 마우스 출시',\n",
       " \"한국온라인광고협회, '인플루언서 협찬광고 이슈와 발전방안' 논의\",\n",
       " '평택 험프리스 페어 블로썸 마켓 성료…‘큐알패스(QR·Pass)’ 적용 눈길',\n",
       " '서강SLP, 2021년 영어 유치부 신입생 모집',\n",
       " '바이오이즈, 여과지 및 등온증폭 기술 기반 ‘COVID-19 진단 키트’ 개발',\n",
       " \"디젠트아이디 '큐알패스(QR·Pass)', 손쉬운 출입관리 솔루션 눈길\",\n",
       " '브로나인, AI ‘볼킷 충전기’ 글로벌 시장 런칭',\n",
       " \"도큐사인, 한국 공식 파트너 '인텔렉추얼데이터' 선정…본격 한국 진출 가속화\",\n",
       " '대한안전교육협회, 한국전력공사 이러닝 교육으로 안전관리 강화',\n",
       " \"한국핀테크지원센터, 제5회 금융의 날  금융혁신 부문 '대통령 표창' 수상\"]"
      ]
     },
     "execution_count": 20,
     "metadata": {},
     "output_type": "execute_result"
    }
   ],
   "source": [
    "title_ls = []\n",
    "for titles in title:\n",
    "    title_ls.append(titles.text.replace('\\n',\"\").strip())\n",
    "title_ls"
   ]
  },
  {
   "cell_type": "code",
   "execution_count": 21,
   "metadata": {},
   "outputs": [
    {
     "data": {
      "text/plain": [
       "['http://it.chosun.com/site/data/html_dir/2020/11/19/2020111901082.html',\n",
       " 'http://it.chosun.com/site/data/html_dir/2020/11/17/2020111701508.html',\n",
       " 'http://it.chosun.com/site/data/html_dir/2020/11/16/2020111601551.html',\n",
       " 'http://it.chosun.com/site/data/html_dir/2020/11/13/2020111301807.html',\n",
       " 'http://it.chosun.com/site/data/html_dir/2020/11/10/2020111002206.html',\n",
       " 'http://it.chosun.com/site/data/html_dir/2020/11/10/2020111002974.html',\n",
       " 'http://it.chosun.com/site/data/html_dir/2020/11/10/2020111001028.html',\n",
       " 'http://it.chosun.com/site/data/html_dir/2020/11/10/2020111001011.html',\n",
       " 'http://it.chosun.com/site/data/html_dir/2020/11/06/2020110600899.html',\n",
       " 'http://it.chosun.com/site/data/html_dir/2020/11/06/2020110600833.html',\n",
       " 'http://it.chosun.com/site/data/html_dir/2020/11/04/2020110401300.html',\n",
       " 'http://it.chosun.com/site/data/html_dir/2020/11/03/2020110302078.html',\n",
       " 'http://it.chosun.com/site/data/html_dir/2020/11/03/2020110301040.html',\n",
       " 'http://it.chosun.com/site/data/html_dir/2020/10/30/2020103001069.html',\n",
       " 'http://it.chosun.com/site/data/html_dir/2020/10/28/2020102802628.html',\n",
       " 'http://it.chosun.com/site/data/html_dir/2020/10/28/2020102802710.html',\n",
       " 'http://it.chosun.com/site/data/html_dir/2020/10/28/2020102802299.html',\n",
       " 'http://it.chosun.com/site/data/html_dir/2020/10/28/2020102801076.html',\n",
       " 'http://it.chosun.com/site/data/html_dir/2020/10/27/2020102701930.html']"
      ]
     },
     "execution_count": 21,
     "metadata": {},
     "output_type": "execute_result"
    }
   ],
   "source": [
    "link_ls = []\n",
    "for links in link:\n",
    "    link_ls.append(links['href'])\n",
    "link_ls"
   ]
  },
  {
   "cell_type": "code",
   "execution_count": 22,
   "metadata": {},
   "outputs": [
    {
     "data": {
      "text/plain": [
       "['2020.11.19',\n",
       " '2020.11.17',\n",
       " '2020.11.16',\n",
       " '2020.11.13',\n",
       " '2020.11.11',\n",
       " '2020.11.11',\n",
       " '2020.11.10',\n",
       " '2020.11.10',\n",
       " '2020.11.09',\n",
       " '2020.11.06',\n",
       " '2020.11.04',\n",
       " '2020.11.04',\n",
       " '2020.11.03',\n",
       " '2020.10.30',\n",
       " '2020.10.29',\n",
       " '2020.10.29',\n",
       " '2020.10.29',\n",
       " '2020.10.28',\n",
       " '2020.10.27']"
      ]
     },
     "execution_count": 22,
     "metadata": {},
     "output_type": "execute_result"
    }
   ],
   "source": [
    "date_ls = []\n",
    "for dates in date:\n",
    "    date_ls.append(dates.text)\n",
    "date_ls"
   ]
  },
  {
   "cell_type": "code",
   "execution_count": 24,
   "metadata": {},
   "outputs": [
    {
     "name": "stdout",
     "output_type": "stream",
     "text": [
      "1 2 3 4 5 6 7 8 9 "
     ]
    }
   ],
   "source": [
    "title_ls, link_ls, date_ls = [], [], []\n",
    "article = {}\n",
    "for page in range(1,10):\n",
    "    url = \"http://it.chosun.com/svc/list_in/list.html?catid=A&pn={}\".format(page)\n",
    "    response = requests.get(url)\n",
    "    html = response.text\n",
    "    dom = BeautifulSoup(html, 'html.parser')\n",
    "    for titles in title:\n",
    "        title_ls.append(titles.text.replace('\\n',\"\").strip())\n",
    "    for links in link:\n",
    "        link_ls.append(links['href'])\n",
    "    for dates in date:\n",
    "        date_ls.append(dates.text)\n",
    "        if date_ls[-1].split(' ')[0] == '2019.01.01':\n",
    "            break\n",
    "\n",
    "    print(page, end= ' ')\n",
    "    time.sleep(1)\n",
    "\n",
    "article['title'] = title_ls\n",
    "article['link'] = link_ls\n",
    "article['date'] = date_ls"
   ]
  },
  {
   "cell_type": "code",
   "execution_count": 25,
   "metadata": {},
   "outputs": [],
   "source": [
    "it_chosun = pd.DataFrame(article)\n",
    "it_chosun.to_excel('it_chosun_article.xlsx', index=False)"
   ]
  },
  {
   "cell_type": "code",
   "execution_count": 26,
   "metadata": {},
   "outputs": [
    {
     "data": {
      "text/html": [
       "<div>\n",
       "<style scoped>\n",
       "    .dataframe tbody tr th:only-of-type {\n",
       "        vertical-align: middle;\n",
       "    }\n",
       "\n",
       "    .dataframe tbody tr th {\n",
       "        vertical-align: top;\n",
       "    }\n",
       "\n",
       "    .dataframe thead th {\n",
       "        text-align: right;\n",
       "    }\n",
       "</style>\n",
       "<table border=\"1\" class=\"dataframe\">\n",
       "  <thead>\n",
       "    <tr style=\"text-align: right;\">\n",
       "      <th></th>\n",
       "      <th>title</th>\n",
       "      <th>link</th>\n",
       "      <th>date</th>\n",
       "      <th>category</th>\n",
       "      <th>press_agency</th>\n",
       "    </tr>\n",
       "  </thead>\n",
       "  <tbody>\n",
       "    <tr>\n",
       "      <th>0</th>\n",
       "      <td>이루다마케팅, 서울벤처스와 애드테크 사업 MOU 체결</td>\n",
       "      <td>http://it.chosun.com/site/data/html_dir/2020/1...</td>\n",
       "      <td>2020.11.19</td>\n",
       "      <td>IT/과학</td>\n",
       "      <td>IT조선</td>\n",
       "    </tr>\n",
       "    <tr>\n",
       "      <th>1</th>\n",
       "      <td>10대 전용 SNS ‘오잉’, Mnet 오디션 프로 ‘캡틴’ 투표 채널 선정</td>\n",
       "      <td>http://it.chosun.com/site/data/html_dir/2020/1...</td>\n",
       "      <td>2020.11.17</td>\n",
       "      <td>IT/과학</td>\n",
       "      <td>IT조선</td>\n",
       "    </tr>\n",
       "    <tr>\n",
       "      <th>2</th>\n",
       "      <td>티르티르 ‘도자기 코어 크림’, CJ오쇼핑 론칭 앞두고 ‘미리 주문’ 오픈</td>\n",
       "      <td>http://it.chosun.com/site/data/html_dir/2020/1...</td>\n",
       "      <td>2020.11.16</td>\n",
       "      <td>IT/과학</td>\n",
       "      <td>IT조선</td>\n",
       "    </tr>\n",
       "    <tr>\n",
       "      <th>3</th>\n",
       "      <td>리앤블락 '사디나스(SARDINAS)', 16일 프로비트(ProBit) 상장</td>\n",
       "      <td>http://it.chosun.com/site/data/html_dir/2020/1...</td>\n",
       "      <td>2020.11.13</td>\n",
       "      <td>IT/과학</td>\n",
       "      <td>IT조선</td>\n",
       "    </tr>\n",
       "    <tr>\n",
       "      <th>4</th>\n",
       "      <td>AR 뷰티 플랫폼 ‘티커(Ticker)’, 메이투(Meitu)와 기술협약 체결</td>\n",
       "      <td>http://it.chosun.com/site/data/html_dir/2020/1...</td>\n",
       "      <td>2020.11.11</td>\n",
       "      <td>IT/과학</td>\n",
       "      <td>IT조선</td>\n",
       "    </tr>\n",
       "    <tr>\n",
       "      <th>...</th>\n",
       "      <td>...</td>\n",
       "      <td>...</td>\n",
       "      <td>...</td>\n",
       "      <td>...</td>\n",
       "      <td>...</td>\n",
       "    </tr>\n",
       "    <tr>\n",
       "      <th>166</th>\n",
       "      <td>디젠트아이디 '큐알패스(QR·Pass)', 손쉬운 출입관리 솔루션 눈길</td>\n",
       "      <td>http://it.chosun.com/site/data/html_dir/2020/1...</td>\n",
       "      <td>2020.10.29</td>\n",
       "      <td>IT/과학</td>\n",
       "      <td>IT조선</td>\n",
       "    </tr>\n",
       "    <tr>\n",
       "      <th>167</th>\n",
       "      <td>브로나인, AI ‘볼킷 충전기’ 글로벌 시장 런칭</td>\n",
       "      <td>http://it.chosun.com/site/data/html_dir/2020/1...</td>\n",
       "      <td>2020.10.29</td>\n",
       "      <td>IT/과학</td>\n",
       "      <td>IT조선</td>\n",
       "    </tr>\n",
       "    <tr>\n",
       "      <th>168</th>\n",
       "      <td>도큐사인, 한국 공식 파트너 '인텔렉추얼데이터' 선정…본격 한국 진출 가속화</td>\n",
       "      <td>http://it.chosun.com/site/data/html_dir/2020/1...</td>\n",
       "      <td>2020.10.29</td>\n",
       "      <td>IT/과학</td>\n",
       "      <td>IT조선</td>\n",
       "    </tr>\n",
       "    <tr>\n",
       "      <th>169</th>\n",
       "      <td>대한안전교육협회, 한국전력공사 이러닝 교육으로 안전관리 강화</td>\n",
       "      <td>http://it.chosun.com/site/data/html_dir/2020/1...</td>\n",
       "      <td>2020.10.28</td>\n",
       "      <td>IT/과학</td>\n",
       "      <td>IT조선</td>\n",
       "    </tr>\n",
       "    <tr>\n",
       "      <th>170</th>\n",
       "      <td>한국핀테크지원센터, 제5회 금융의 날  금융혁신 부문 '대통령 표창' 수상</td>\n",
       "      <td>http://it.chosun.com/site/data/html_dir/2020/1...</td>\n",
       "      <td>2020.10.27</td>\n",
       "      <td>IT/과학</td>\n",
       "      <td>IT조선</td>\n",
       "    </tr>\n",
       "  </tbody>\n",
       "</table>\n",
       "<p>171 rows × 5 columns</p>\n",
       "</div>"
      ],
      "text/plain": [
       "                                           title  \\\n",
       "0                  이루다마케팅, 서울벤처스와 애드테크 사업 MOU 체결   \n",
       "1     10대 전용 SNS ‘오잉’, Mnet 오디션 프로 ‘캡틴’ 투표 채널 선정   \n",
       "2      티르티르 ‘도자기 코어 크림’, CJ오쇼핑 론칭 앞두고 ‘미리 주문’ 오픈   \n",
       "3     리앤블락 '사디나스(SARDINAS)', 16일 프로비트(ProBit) 상장   \n",
       "4    AR 뷰티 플랫폼 ‘티커(Ticker)’, 메이투(Meitu)와 기술협약 체결   \n",
       "..                                           ...   \n",
       "166      디젠트아이디 '큐알패스(QR·Pass)', 손쉬운 출입관리 솔루션 눈길   \n",
       "167                  브로나인, AI ‘볼킷 충전기’ 글로벌 시장 런칭   \n",
       "168   도큐사인, 한국 공식 파트너 '인텔렉추얼데이터' 선정…본격 한국 진출 가속화   \n",
       "169            대한안전교육협회, 한국전력공사 이러닝 교육으로 안전관리 강화   \n",
       "170    한국핀테크지원센터, 제5회 금융의 날  금융혁신 부문 '대통령 표창' 수상   \n",
       "\n",
       "                                                  link        date category  \\\n",
       "0    http://it.chosun.com/site/data/html_dir/2020/1...  2020.11.19    IT/과학   \n",
       "1    http://it.chosun.com/site/data/html_dir/2020/1...  2020.11.17    IT/과학   \n",
       "2    http://it.chosun.com/site/data/html_dir/2020/1...  2020.11.16    IT/과학   \n",
       "3    http://it.chosun.com/site/data/html_dir/2020/1...  2020.11.13    IT/과학   \n",
       "4    http://it.chosun.com/site/data/html_dir/2020/1...  2020.11.11    IT/과학   \n",
       "..                                                 ...         ...      ...   \n",
       "166  http://it.chosun.com/site/data/html_dir/2020/1...  2020.10.29    IT/과학   \n",
       "167  http://it.chosun.com/site/data/html_dir/2020/1...  2020.10.29    IT/과학   \n",
       "168  http://it.chosun.com/site/data/html_dir/2020/1...  2020.10.29    IT/과학   \n",
       "169  http://it.chosun.com/site/data/html_dir/2020/1...  2020.10.28    IT/과학   \n",
       "170  http://it.chosun.com/site/data/html_dir/2020/1...  2020.10.27    IT/과학   \n",
       "\n",
       "    press_agency  \n",
       "0           IT조선  \n",
       "1           IT조선  \n",
       "2           IT조선  \n",
       "3           IT조선  \n",
       "4           IT조선  \n",
       "..           ...  \n",
       "166         IT조선  \n",
       "167         IT조선  \n",
       "168         IT조선  \n",
       "169         IT조선  \n",
       "170         IT조선  \n",
       "\n",
       "[171 rows x 5 columns]"
      ]
     },
     "execution_count": 26,
     "metadata": {},
     "output_type": "execute_result"
    }
   ],
   "source": [
    "it_chosun[\"category\"] = \"IT/과학\"\n",
    "it_chosun['press_agency'] = \"IT조선\"\n",
    "it_chosun"
   ]
  },
  {
   "cell_type": "code",
   "execution_count": null,
   "metadata": {},
   "outputs": [],
   "source": []
  }
 ],
 "metadata": {
  "kernelspec": {
   "display_name": "Python 3",
   "language": "python",
   "name": "python3"
  },
  "language_info": {
   "codemirror_mode": {
    "name": "ipython",
    "version": 3
   },
   "file_extension": ".py",
   "mimetype": "text/x-python",
   "name": "python",
   "nbconvert_exporter": "python",
   "pygments_lexer": "ipython3",
   "version": "3.8.3"
  }
 },
 "nbformat": 4,
 "nbformat_minor": 4
}
