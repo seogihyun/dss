{
 "cells": [
  {
   "cell_type": "markdown",
   "metadata": {},
   "source": [
    "### chatbot\n",
    "- \"번역:내용(한글)\" -> 영문\n",
    "- \"날씨:지역\" -> 지역날씨정보(한글)"
   ]
  },
  {
   "cell_type": "markdown",
   "metadata": {},
   "source": [
    "- 네이버 파파고 : 한글 -> 영문, 영문 -> 한글\n",
    "- 카카오 로컬 : 지역이름 -> 위도, 경도\n",
    "- darksky API : 위도, 경도 -> 날씨정보(영문)"
   ]
  },
  {
   "cell_type": "markdown",
   "metadata": {},
   "source": [
    "- 서울 -> 카카오 로컬(위도, 경도) -> darksky(영문 날씨) -> 네이버 파파고(한글 날씨) -> 슬랙 전송"
   ]
  },
  {
   "cell_type": "markdown",
   "metadata": {},
   "source": [
    "- outgoing webhook : POST 방식"
   ]
  },
  {
   "cell_type": "code",
   "execution_count": 9,
   "metadata": {},
   "outputs": [],
   "source": [
    "naver_id = \"wzFa_hXu9Kjp\"\n",
    "naver_secret = \"JpHIfF7\"\n",
    "kakao_key = \"161f5ce3b5\"\n",
    "darksky_key = \"1fbca7d24d235cdf\"\n",
    "webhook_url = \"https://hooks.slack.com/services/T0L479/B01FSG/Uy7XFN\""
   ]
  },
  {
   "cell_type": "code",
   "execution_count": 10,
   "metadata": {},
   "outputs": [],
   "source": [
    "!mkdir -p chatbot/libs\n",
    "!touch chatbot/chatbot.py\n",
    "!touch chatbot/libs/naver.py\n",
    "!touch chatbot/libs/weather.py\n",
    "!touch chatbot/libs/slack.py"
   ]
  },
  {
   "cell_type": "code",
   "execution_count": 11,
   "metadata": {},
   "outputs": [
    {
     "name": "stdout",
     "output_type": "stream",
     "text": [
      "\u001b[01;34mchatbot/\u001b[00m\r\n",
      "├── chatbot.py\r\n",
      "└── \u001b[01;34mlibs\u001b[00m\r\n",
      "    ├── naver.py\r\n",
      "    ├── slack.py\r\n",
      "    └── weather.py\r\n",
      "\r\n",
      "1 directory, 4 files\r\n"
     ]
    }
   ],
   "source": [
    "!tree chatbot/"
   ]
  },
  {
   "cell_type": "code",
   "execution_count": 12,
   "metadata": {},
   "outputs": [],
   "source": [
    "# 1. 네이버 번역 모듈"
   ]
  },
  {
   "cell_type": "code",
   "execution_count": 13,
   "metadata": {},
   "outputs": [
    {
     "name": "stdout",
     "output_type": "stream",
     "text": [
      "Overwriting chatbot/libs/naver.py\n"
     ]
    }
   ],
   "source": [
    "%%writefile chatbot/libs/naver.py\n",
    "import requests, json\n",
    "\n",
    "def translate(naver_id, naver_secret, text, source=\"ko\", target=\"en\"):\n",
    "    url = \"https://openapi.naver.com/v1/papago/n2mt\"\n",
    "    params = {\"source\": source, \"target\": target, \"text\": text}\n",
    "    headers = {\n",
    "        \"X-Naver-Client-Id\": naver_id,\n",
    "        \"X-Naver-Client-Secret\": naver_secret,\n",
    "        \"Content-Type\": \"application/json\",\n",
    "    }\n",
    "    response = requests.post(url, json.dumps(params), headers=headers)\n",
    "    return response.json()[\"message\"][\"result\"][\"translatedText\"]"
   ]
  },
  {
   "cell_type": "code",
   "execution_count": 14,
   "metadata": {},
   "outputs": [],
   "source": [
    "import chatbot.libs.naver as naver"
   ]
  },
  {
   "cell_type": "code",
   "execution_count": 15,
   "metadata": {},
   "outputs": [
    {
     "data": {
      "text/plain": [
       "'Python is fun.'"
      ]
     },
     "execution_count": 15,
     "metadata": {},
     "output_type": "execute_result"
    }
   ],
   "source": [
    "text = \"파이썬은 재미있습니다.\"\n",
    "msg = naver.translate(naver_id, naver_secret, text)\n",
    "msg"
   ]
  },
  {
   "cell_type": "code",
   "execution_count": 16,
   "metadata": {},
   "outputs": [],
   "source": [
    "# 2. 날씨 정보 모듈 (카카오)"
   ]
  },
  {
   "cell_type": "code",
   "execution_count": 44,
   "metadata": {},
   "outputs": [
    {
     "name": "stdout",
     "output_type": "stream",
     "text": [
      "Overwriting chatbot/libs/forecast.py\n"
     ]
    }
   ],
   "source": [
    "%%writefile chatbot/libs/forecast.py\n",
    "import requests\n",
    "# import chatbot.libs.naver as naver # 테스트 할때 사용\n",
    "import libs.naver as naver # flask 에서 실행할때 사용\n",
    "\n",
    "def kakao_local(kakao_key, addr):\n",
    "    url = \"https://dapi.kakao.com//v2/local/search/address.json?query={}\".format(addr)\n",
    "    headers = {\"Authorization\": \"KakaoAK {}\".format(kakao_key)}\n",
    "    response = requests.get(url, headers=headers)\n",
    "    datas = response.json()[\"documents\"][0]\n",
    "    return datas[\"y\"], datas[\"x\"]\n",
    "\n",
    "def weather(lat, lng, darksky_key):\n",
    "    url = \"https://api.darksky.net/forecast/{}/{},{}\".format(darksky_key, lat, lng)\n",
    "    response = requests.get(url)\n",
    "    return response.json()[\"daily\"][\"summary\"]\n",
    "\n",
    "# 지역 > 위도,경도 > 영문 날씨 > 한글 날씨\n",
    "def run(naver_id, naver_secret, kakao_key, darksky_key, addr):\n",
    "    lat, lng = kakao_local(kakao_key, addr)\n",
    "    en_msg = weather(lat, lng, darksky_key)\n",
    "    ko_msg = naver.translate(naver_id, naver_secret, en_msg, \"en\", \"ko\")\n",
    "    return \"{}의 날씨는 {}\".format(addr, ko_msg)"
   ]
  },
  {
   "cell_type": "code",
   "execution_count": 33,
   "metadata": {
    "collapsed": true
   },
   "outputs": [
    {
     "ename": "NameError",
     "evalue": "name 'kakao_local' is not defined",
     "output_type": "error",
     "traceback": [
      "\u001b[0;31m---------------------------------------------------------------------------\u001b[0m",
      "\u001b[0;31mNameError\u001b[0m                                 Traceback (most recent call last)",
      "\u001b[0;32m<ipython-input-33-add88def93e6>\u001b[0m in \u001b[0;36m<module>\u001b[0;34m\u001b[0m\n\u001b[1;32m      1\u001b[0m \u001b[0maddr\u001b[0m \u001b[0;34m=\u001b[0m \u001b[0;34m\"부산\"\u001b[0m\u001b[0;34m\u001b[0m\u001b[0;34m\u001b[0m\u001b[0m\n\u001b[0;32m----> 2\u001b[0;31m \u001b[0mlat\u001b[0m\u001b[0;34m,\u001b[0m \u001b[0mlng\u001b[0m \u001b[0;34m=\u001b[0m \u001b[0mkakao_local\u001b[0m\u001b[0;34m(\u001b[0m\u001b[0mkakao_key\u001b[0m\u001b[0;34m,\u001b[0m \u001b[0maddr\u001b[0m\u001b[0;34m)\u001b[0m\u001b[0;34m\u001b[0m\u001b[0;34m\u001b[0m\u001b[0m\n\u001b[0m\u001b[1;32m      3\u001b[0m \u001b[0mlat\u001b[0m\u001b[0;34m,\u001b[0m \u001b[0mlng\u001b[0m\u001b[0;34m\u001b[0m\u001b[0;34m\u001b[0m\u001b[0m\n",
      "\u001b[0;31mNameError\u001b[0m: name 'kakao_local' is not defined"
     ]
    }
   ],
   "source": [
    "addr = \"부산\"\n",
    "lat, lng = kakao_local(kakao_key, addr)\n",
    "lat, lng"
   ]
  },
  {
   "cell_type": "code",
   "execution_count": 19,
   "metadata": {
    "collapsed": true
   },
   "outputs": [
    {
     "ename": "NameError",
     "evalue": "name 'weather' is not defined",
     "output_type": "error",
     "traceback": [
      "\u001b[0;31m---------------------------------------------------------------------------\u001b[0m",
      "\u001b[0;31mNameError\u001b[0m                                 Traceback (most recent call last)",
      "\u001b[0;32m<ipython-input-19-5cbf3fd7926a>\u001b[0m in \u001b[0;36m<module>\u001b[0;34m\u001b[0m\n\u001b[0;32m----> 1\u001b[0;31m \u001b[0men_msg\u001b[0m \u001b[0;34m=\u001b[0m \u001b[0mweather\u001b[0m\u001b[0;34m(\u001b[0m\u001b[0mlat\u001b[0m\u001b[0;34m,\u001b[0m \u001b[0mlng\u001b[0m\u001b[0;34m,\u001b[0m \u001b[0mdarksky_key\u001b[0m\u001b[0;34m)\u001b[0m\u001b[0;34m\u001b[0m\u001b[0;34m\u001b[0m\u001b[0m\n\u001b[0m\u001b[1;32m      2\u001b[0m \u001b[0men_msg\u001b[0m\u001b[0;34m\u001b[0m\u001b[0;34m\u001b[0m\u001b[0m\n",
      "\u001b[0;31mNameError\u001b[0m: name 'weather' is not defined"
     ]
    }
   ],
   "source": [
    "en_msg = weather(lat, lng, darksky_key)\n",
    "en_msg"
   ]
  },
  {
   "cell_type": "code",
   "execution_count": 20,
   "metadata": {
    "collapsed": true
   },
   "outputs": [
    {
     "ename": "Exception",
     "evalue": "File `'(naver_id,.py'` not found.",
     "output_type": "error",
     "traceback": [
      "\u001b[0;31m---------------------------------------------------------------------------\u001b[0m",
      "\u001b[0;31mOSError\u001b[0m                                   Traceback (most recent call last)",
      "\u001b[0;32m~/.pyenv/versions/3.6.9/envs/python3/lib/python3.6/site-packages/IPython/core/magics/execution.py\u001b[0m in \u001b[0;36mrun\u001b[0;34m(self, parameter_s, runner, file_finder)\u001b[0m\n\u001b[1;32m    696\u001b[0m             \u001b[0mfpath\u001b[0m \u001b[0;34m=\u001b[0m \u001b[0marg_lst\u001b[0m\u001b[0;34m[\u001b[0m\u001b[0;36m0\u001b[0m\u001b[0;34m]\u001b[0m\u001b[0;34m\u001b[0m\u001b[0;34m\u001b[0m\u001b[0m\n\u001b[0;32m--> 697\u001b[0;31m             \u001b[0mfilename\u001b[0m \u001b[0;34m=\u001b[0m \u001b[0mfile_finder\u001b[0m\u001b[0;34m(\u001b[0m\u001b[0mfpath\u001b[0m\u001b[0;34m)\u001b[0m\u001b[0;34m\u001b[0m\u001b[0;34m\u001b[0m\u001b[0m\n\u001b[0m\u001b[1;32m    698\u001b[0m         \u001b[0;32mexcept\u001b[0m \u001b[0mIndexError\u001b[0m\u001b[0;34m:\u001b[0m\u001b[0;34m\u001b[0m\u001b[0;34m\u001b[0m\u001b[0m\n",
      "\u001b[0;32m~/.pyenv/versions/3.6.9/envs/python3/lib/python3.6/site-packages/IPython/utils/path.py\u001b[0m in \u001b[0;36mget_py_filename\u001b[0;34m(name, force_win32)\u001b[0m\n\u001b[1;32m    108\u001b[0m     \u001b[0;32melse\u001b[0m\u001b[0;34m:\u001b[0m\u001b[0;34m\u001b[0m\u001b[0;34m\u001b[0m\u001b[0m\n\u001b[0;32m--> 109\u001b[0;31m         \u001b[0;32mraise\u001b[0m \u001b[0mIOError\u001b[0m\u001b[0;34m(\u001b[0m\u001b[0;34m'File `%r` not found.'\u001b[0m \u001b[0;34m%\u001b[0m \u001b[0mname\u001b[0m\u001b[0;34m)\u001b[0m\u001b[0;34m\u001b[0m\u001b[0;34m\u001b[0m\u001b[0m\n\u001b[0m\u001b[1;32m    110\u001b[0m \u001b[0;34m\u001b[0m\u001b[0m\n",
      "\u001b[0;31mOSError\u001b[0m: File `'(naver_id,.py'` not found.",
      "\nDuring handling of the above exception, another exception occurred:\n",
      "\u001b[0;31mException\u001b[0m                                 Traceback (most recent call last)",
      "\u001b[0;32m<ipython-input-20-b4632dc7dd82>\u001b[0m in \u001b[0;36m<module>\u001b[0;34m\u001b[0m\n\u001b[0;32m----> 1\u001b[0;31m \u001b[0mget_ipython\u001b[0m\u001b[0;34m(\u001b[0m\u001b[0;34m)\u001b[0m\u001b[0;34m.\u001b[0m\u001b[0mrun_line_magic\u001b[0m\u001b[0;34m(\u001b[0m\u001b[0;34m'run'\u001b[0m\u001b[0;34m,\u001b[0m \u001b[0;34m'(naver_id, naver_secret, kakao_key, darksky_key, addr)'\u001b[0m\u001b[0;34m)\u001b[0m\u001b[0;34m\u001b[0m\u001b[0;34m\u001b[0m\u001b[0m\n\u001b[0m",
      "\u001b[0;32m~/.pyenv/versions/3.6.9/envs/python3/lib/python3.6/site-packages/IPython/core/interactiveshell.py\u001b[0m in \u001b[0;36mrun_line_magic\u001b[0;34m(self, magic_name, line, _stack_depth)\u001b[0m\n\u001b[1;32m   2324\u001b[0m                 \u001b[0mkwargs\u001b[0m\u001b[0;34m[\u001b[0m\u001b[0;34m'local_ns'\u001b[0m\u001b[0;34m]\u001b[0m \u001b[0;34m=\u001b[0m \u001b[0msys\u001b[0m\u001b[0;34m.\u001b[0m\u001b[0m_getframe\u001b[0m\u001b[0;34m(\u001b[0m\u001b[0mstack_depth\u001b[0m\u001b[0;34m)\u001b[0m\u001b[0;34m.\u001b[0m\u001b[0mf_locals\u001b[0m\u001b[0;34m\u001b[0m\u001b[0;34m\u001b[0m\u001b[0m\n\u001b[1;32m   2325\u001b[0m             \u001b[0;32mwith\u001b[0m \u001b[0mself\u001b[0m\u001b[0;34m.\u001b[0m\u001b[0mbuiltin_trap\u001b[0m\u001b[0;34m:\u001b[0m\u001b[0;34m\u001b[0m\u001b[0;34m\u001b[0m\u001b[0m\n\u001b[0;32m-> 2326\u001b[0;31m                 \u001b[0mresult\u001b[0m \u001b[0;34m=\u001b[0m \u001b[0mfn\u001b[0m\u001b[0;34m(\u001b[0m\u001b[0;34m*\u001b[0m\u001b[0margs\u001b[0m\u001b[0;34m,\u001b[0m \u001b[0;34m**\u001b[0m\u001b[0mkwargs\u001b[0m\u001b[0;34m)\u001b[0m\u001b[0;34m\u001b[0m\u001b[0;34m\u001b[0m\u001b[0m\n\u001b[0m\u001b[1;32m   2327\u001b[0m             \u001b[0;32mreturn\u001b[0m \u001b[0mresult\u001b[0m\u001b[0;34m\u001b[0m\u001b[0;34m\u001b[0m\u001b[0m\n\u001b[1;32m   2328\u001b[0m \u001b[0;34m\u001b[0m\u001b[0m\n",
      "\u001b[0;32m<decorator-gen-59>\u001b[0m in \u001b[0;36mrun\u001b[0;34m(self, parameter_s, runner, file_finder)\u001b[0m\n",
      "\u001b[0;32m~/.pyenv/versions/3.6.9/envs/python3/lib/python3.6/site-packages/IPython/core/magic.py\u001b[0m in \u001b[0;36m<lambda>\u001b[0;34m(f, *a, **k)\u001b[0m\n\u001b[1;32m    185\u001b[0m     \u001b[0;31m# but it's overkill for just that one bit of state.\u001b[0m\u001b[0;34m\u001b[0m\u001b[0;34m\u001b[0m\u001b[0;34m\u001b[0m\u001b[0m\n\u001b[1;32m    186\u001b[0m     \u001b[0;32mdef\u001b[0m \u001b[0mmagic_deco\u001b[0m\u001b[0;34m(\u001b[0m\u001b[0marg\u001b[0m\u001b[0;34m)\u001b[0m\u001b[0;34m:\u001b[0m\u001b[0;34m\u001b[0m\u001b[0;34m\u001b[0m\u001b[0m\n\u001b[0;32m--> 187\u001b[0;31m         \u001b[0mcall\u001b[0m \u001b[0;34m=\u001b[0m \u001b[0;32mlambda\u001b[0m \u001b[0mf\u001b[0m\u001b[0;34m,\u001b[0m \u001b[0;34m*\u001b[0m\u001b[0ma\u001b[0m\u001b[0;34m,\u001b[0m \u001b[0;34m**\u001b[0m\u001b[0mk\u001b[0m\u001b[0;34m:\u001b[0m \u001b[0mf\u001b[0m\u001b[0;34m(\u001b[0m\u001b[0;34m*\u001b[0m\u001b[0ma\u001b[0m\u001b[0;34m,\u001b[0m \u001b[0;34m**\u001b[0m\u001b[0mk\u001b[0m\u001b[0;34m)\u001b[0m\u001b[0;34m\u001b[0m\u001b[0;34m\u001b[0m\u001b[0m\n\u001b[0m\u001b[1;32m    188\u001b[0m \u001b[0;34m\u001b[0m\u001b[0m\n\u001b[1;32m    189\u001b[0m         \u001b[0;32mif\u001b[0m \u001b[0mcallable\u001b[0m\u001b[0;34m(\u001b[0m\u001b[0marg\u001b[0m\u001b[0;34m)\u001b[0m\u001b[0;34m:\u001b[0m\u001b[0;34m\u001b[0m\u001b[0;34m\u001b[0m\u001b[0m\n",
      "\u001b[0;32m~/.pyenv/versions/3.6.9/envs/python3/lib/python3.6/site-packages/IPython/core/magics/execution.py\u001b[0m in \u001b[0;36mrun\u001b[0;34m(self, parameter_s, runner, file_finder)\u001b[0m\n\u001b[1;32m    706\u001b[0m             \u001b[0;32mif\u001b[0m \u001b[0mos\u001b[0m\u001b[0;34m.\u001b[0m\u001b[0mname\u001b[0m \u001b[0;34m==\u001b[0m \u001b[0;34m'nt'\u001b[0m \u001b[0;32mand\u001b[0m \u001b[0mre\u001b[0m\u001b[0;34m.\u001b[0m\u001b[0mmatch\u001b[0m\u001b[0;34m(\u001b[0m\u001b[0;34mr\"^'.*'$\"\u001b[0m\u001b[0;34m,\u001b[0m\u001b[0mfpath\u001b[0m\u001b[0;34m)\u001b[0m\u001b[0;34m:\u001b[0m\u001b[0;34m\u001b[0m\u001b[0;34m\u001b[0m\u001b[0m\n\u001b[1;32m    707\u001b[0m                 \u001b[0mwarn\u001b[0m\u001b[0;34m(\u001b[0m\u001b[0;34m'For Windows, use double quotes to wrap a filename: %run \"mypath\\\\myfile.py\"'\u001b[0m\u001b[0;34m)\u001b[0m\u001b[0;34m\u001b[0m\u001b[0;34m\u001b[0m\u001b[0m\n\u001b[0;32m--> 708\u001b[0;31m             \u001b[0;32mraise\u001b[0m \u001b[0mException\u001b[0m\u001b[0;34m(\u001b[0m\u001b[0mmsg\u001b[0m\u001b[0;34m)\u001b[0m\u001b[0;34m\u001b[0m\u001b[0;34m\u001b[0m\u001b[0m\n\u001b[0m\u001b[1;32m    709\u001b[0m         \u001b[0;32mexcept\u001b[0m \u001b[0mTypeError\u001b[0m\u001b[0;34m:\u001b[0m\u001b[0;34m\u001b[0m\u001b[0;34m\u001b[0m\u001b[0m\n\u001b[1;32m    710\u001b[0m             \u001b[0;32mif\u001b[0m \u001b[0mfpath\u001b[0m \u001b[0;32min\u001b[0m \u001b[0msys\u001b[0m\u001b[0;34m.\u001b[0m\u001b[0mmeta_path\u001b[0m\u001b[0;34m:\u001b[0m\u001b[0;34m\u001b[0m\u001b[0;34m\u001b[0m\u001b[0m\n",
      "\u001b[0;31mException\u001b[0m: File `'(naver_id,.py'` not found."
     ]
    }
   ],
   "source": [
    "run(naver_id, naver_secret, kakao_key, darksky_key, addr)"
   ]
  },
  {
   "cell_type": "code",
   "execution_count": 21,
   "metadata": {},
   "outputs": [],
   "source": [
    "# 3. 슬랙 전송 모듈"
   ]
  },
  {
   "cell_type": "code",
   "execution_count": 34,
   "metadata": {},
   "outputs": [
    {
     "data": {
      "text/plain": [
       "'부산의 날씨는 오늘 비가 올 것 같다.'"
      ]
     },
     "execution_count": 34,
     "metadata": {},
     "output_type": "execute_result"
    }
   ],
   "source": [
    "import chatbot.libs.forecast as forecast\n",
    "\n",
    "addr = \"부산\"\n",
    "msg = forecast.run(naver_id, naver_secret, kakao_key, darksky_key, addr)\n",
    "msg\n"
   ]
  },
  {
   "cell_type": "code",
   "execution_count": 35,
   "metadata": {},
   "outputs": [
    {
     "name": "stdout",
     "output_type": "stream",
     "text": [
      "Overwriting chatbot/libs/slack.py\n"
     ]
    }
   ],
   "source": [
    "%%writefile chatbot/libs/slack.py\n",
    "import requests, json\n",
    "\n",
    "def send_msg(webhook_url, mag, channel=\"#dss\", username=\"슬랙봇\"):\n",
    "    payload = {\"channel\": channel, \"username\": username, \"text\": mag}\n",
    "    requests.post(webhook_url, data=json.dumps(payload))"
   ]
  },
  {
   "cell_type": "code",
   "execution_count": 36,
   "metadata": {},
   "outputs": [],
   "source": [
    "import chatbot.libs.slack as slack\n",
    "slack.send_msg(webhook_url, msg)"
   ]
  },
  {
   "cell_type": "code",
   "execution_count": 37,
   "metadata": {},
   "outputs": [],
   "source": [
    "# 4. chatbot.py 작성"
   ]
  },
  {
   "cell_type": "code",
   "execution_count": 38,
   "metadata": {},
   "outputs": [
    {
     "name": "stdout",
     "output_type": "stream",
     "text": [
      "Overwriting chatbot/chatbot.py\n"
     ]
    }
   ],
   "source": [
    "%%writefile chatbot/chatbot.py\n",
    "from flask import *\n",
    "\n",
    "import libs.naver as naver\n",
    "import libs.forecast as forecast\n",
    "import libs.slack as slack\n",
    "\n",
    "app = Flask(__name__)\n",
    "\n",
    "naver_id = \"iz9ZHA\"\n",
    "naver_secret = \"l\"\n",
    "kakao_key = \"574f770c\"\n",
    "darksky_key = \"1fbca7d24\"\n",
    "webhook_url = \"https://hooks.slack.com/services/TNR/CKY/f2eiwIb\"\n",
    "\n",
    "@app.route(\"/\")\n",
    "def index():\n",
    "    return \"server is running!!!\"\n",
    "\n",
    "@app.route(\"/bot\", methods=[\"POST\"])\n",
    "def bot():\n",
    "    \n",
    "    username = request.form.get(\"user_name\")\n",
    "    token = request.form.get(\"token\")\n",
    "    text =  request.form.get(\"text\")\n",
    "    \n",
    "    print(username, token, text)\n",
    "    \n",
    "    text = text.replace(\"[bot] \", \"\")\n",
    "    \n",
    "    if text.find(\":\") < 0:\n",
    "        slack.send_msg(webhook_url, \"(명령):(데이터) 포멧으로 입력해주세요.\")\n",
    "        return Response(), 200\n",
    "    \n",
    "    # [bot] 날씨:부산\n",
    "    comm, data = text.split(\":\")[0], text.split(\":\")[1]\n",
    "    \n",
    "    # [bot] 번역:파이썬을 재미있습니다.\n",
    "    if comm == \"번역\":\n",
    "        msg = naver.translate(naver_id, naver_secret, data) # msg : python is fun!\n",
    "        slack.send_msg(webhook_url, msg)\n",
    "    elif comm == \"날씨\":\n",
    "        msg = forecast.run(naver_id, naver_secret, kakao_key, darksky_key, data)\n",
    "        slack.send_msg(webhook_url, msg)\n",
    "    \n",
    "    return Response(), 200\n",
    "\n",
    "\n",
    "app.run(debug=True)"
   ]
  },
  {
   "cell_type": "code",
   "execution_count": 39,
   "metadata": {},
   "outputs": [],
   "source": [
    "# 5. 모델 파일 적용"
   ]
  },
  {
   "cell_type": "code",
   "execution_count": 40,
   "metadata": {},
   "outputs": [
    {
     "name": "stdout",
     "output_type": "stream",
     "text": [
      "mkdir: cannot create directory ‘chatbot/models’: File exists\r\n"
     ]
    }
   ],
   "source": [
    "!mkdir chatbot/models\n",
    "!cp model.pkl chatbot/models"
   ]
  },
  {
   "cell_type": "code",
   "execution_count": 41,
   "metadata": {},
   "outputs": [
    {
     "name": "stdout",
     "output_type": "stream",
     "text": [
      "\u001b[01;34mchatbot/\u001b[00m\r\n",
      "├── chatbot.py\r\n",
      "├── \u001b[01;34mlibs\u001b[00m\r\n",
      "│   ├── \u001b[01;34m__pycache__\u001b[00m\r\n",
      "│   │   ├── forecast.cpython-36.pyc\r\n",
      "│   │   ├── naver.cpython-36.pyc\r\n",
      "│   │   └── slack.cpython-36.pyc\r\n",
      "│   ├── forecast.py\r\n",
      "│   ├── naver.py\r\n",
      "│   ├── slack.py\r\n",
      "│   └── weather.py\r\n",
      "└── \u001b[01;34mmodels\u001b[00m\r\n",
      "    └── model.pkl\r\n",
      "\r\n",
      "3 directories, 9 files\r\n"
     ]
    }
   ],
   "source": [
    "!tree chatbot/"
   ]
  },
  {
   "cell_type": "code",
   "execution_count": 43,
   "metadata": {},
   "outputs": [
    {
     "name": "stdout",
     "output_type": "stream",
     "text": [
      "Overwriting chatbot/chatbot.py\n"
     ]
    }
   ],
   "source": [
    "%%writefile chatbot/chatbot.py\n",
    "from flask import *\n",
    "\n",
    "import pickle\n",
    "import libs.naver as naver\n",
    "import libs.forecast as forecast\n",
    "import libs.slack as slack\n",
    "\n",
    "app = Flask(__name__)\n",
    "\n",
    "naver_id = \"iz97KIA\"\n",
    "naver_secret = \"8x\"\n",
    "kakao_key = \"574f77753270c\"\n",
    "darksky_key = \"1fbca7d24d65c5cdf\"\n",
    "webhook_url = \"https://hooks.slack.com/services/TNKJR/B01FEQK4KY/f2eiNzKodwIb\"\n",
    "\n",
    "# load model file\n",
    "with open(\"models/model.pkl\", \"rb\") as f:\n",
    "    model = pickle.load(f)\n",
    "\n",
    "\n",
    "@app.route(\"/\")\n",
    "def index():\n",
    "    return \"server is running!!!\"\n",
    "\n",
    "@app.route(\"/bot\", methods=[\"POST\"])\n",
    "def bot():\n",
    "    \n",
    "    username = request.form.get(\"user_name\")\n",
    "    token = request.form.get(\"token\")\n",
    "    text =  request.form.get(\"text\")\n",
    "    \n",
    "    print(username, token, text)\n",
    "    \n",
    "    text = text.replace(\"[bot] \", \"\")\n",
    "    \n",
    "    if text.find(\":\") < 0:\n",
    "        slack.send_msg(webhook_url, \"(명령):(데이터) 포멧으로 입력해주세요.\")\n",
    "        return Response(), 200\n",
    "    \n",
    "    # [bot] 날씨:부산\n",
    "    comm, data = text.split(\":\")[0], text.split(\":\")[1]\n",
    "    \n",
    "    # [bot] 번역:파이썬을 재미있습니다.\n",
    "    if comm == \"번역\":\n",
    "        msg = naver.translate(naver_id, naver_secret, data) # msg : python is fun!\n",
    "        slack.send_msg(webhook_url, msg)\n",
    "    elif comm == \"날씨\":\n",
    "        msg = forecast.run(naver_id, naver_secret, kakao_key, darksky_key, data)\n",
    "        slack.send_msg(webhook_url, msg)\n",
    "    \n",
    "    elif comm == \"카테고리\":\n",
    "        datas = ['정치', '경제', '사회', '생활/문화', '세계', 'IT/과학']\n",
    "        idx = model.predict([data])[0]-100\n",
    "        slack.send_msg(webhook_url, msg)\n",
    "    \n",
    "    return Response(), 200\n",
    "\n",
    "\n",
    "app.run(debug=True)"
   ]
  },
  {
   "cell_type": "code",
   "execution_count": null,
   "metadata": {},
   "outputs": [],
   "source": []
  }
 ],
 "metadata": {
  "kernelspec": {
   "display_name": "Python 3",
   "language": "python",
   "name": "python3"
  },
  "language_info": {
   "codemirror_mode": {
    "name": "ipython",
    "version": 3
   },
   "file_extension": ".py",
   "mimetype": "text/x-python",
   "name": "python",
   "nbconvert_exporter": "python",
   "pygments_lexer": "ipython3",
   "version": "3.6.9"
  }
 },
 "nbformat": 4,
 "nbformat_minor": 4
}
