{
 "cells": [
  {
   "cell_type": "code",
   "execution_count": 1,
   "metadata": {},
   "outputs": [],
   "source": [
    "import requests\n",
    "import pandas as pd\n",
    "import time\n",
    "from bs4 import BeautifulSoup"
   ]
  },
  {
   "cell_type": "code",
   "execution_count": 2,
   "metadata": {},
   "outputs": [],
   "source": [
    "url_num = 1\n",
    "url = \"https://it.donga.com/news/?page={}\".format(url_num)\n",
    "response = requests.get(url)\n",
    "html = response.text\n",
    "dom = BeautifulSoup(html, 'html.parser')"
   ]
  },
  {
   "cell_type": "code",
   "execution_count": 3,
   "metadata": {},
   "outputs": [],
   "source": [
    "title = dom.select(\"body > main > div > div > ul > li > a > div > h5\")\n",
    "link = dom.select('body > main > div > div > ul > li > a')\n",
    "content = dom.select(\"body > main > div > div > div > article > p\")\n",
    "date = dom.select(\"body > main > div > div > ul > li > a > div > div.mb-2.row > div > time\")"
   ]
  },
  {
   "cell_type": "code",
   "execution_count": 4,
   "metadata": {},
   "outputs": [
    {
     "data": {
      "text/plain": [
       "['[기술창업] 서부경기문화창조허브 - 와이캣 전성우 대표 \"스마트폰 거치링, 이제 꺼내지 말고 미세요\"',\n",
       " '엔비디아의 8부 능선은 넘었다··· AMD 라데온 RX 6000 시리즈 정식 출시',\n",
       " '[기술창업] 서부경기문화창조허브 - 홀로 정광현,주진 공동대표 \"상상대로 커스터마이징하라\"',\n",
       " '[아이디어 융합팩토리] 밍글링 임성철 대표 “글로벌 경험을 집에서, 밍글즈”',\n",
       " '브라더 \"옷도 프린터로 찍는 시대, 누구라도 혁신 가능\"',\n",
       " '알고 보니 한국 토종 기업, 어디가 있을까?',\n",
       " '[에코X경기도] 일상 속의 환경보호, 2020 환상마켓에서 접하자',\n",
       " '애플, 중소 규모 개발사와 상생 노선··· 수수료 현행 30%에서15%로 인하',\n",
       " '[먹거리+IT] 초블레스 한채원 대표 “전통 발효식초, 리아퐁에 담았습니다”',\n",
       " '[기고] 재택근무에서 보안은 더욱 중요해져']"
      ]
     },
     "execution_count": 4,
     "metadata": {},
     "output_type": "execute_result"
    }
   ],
   "source": [
    "title_ls = []\n",
    "for titles in title:\n",
    "    title_ls.append(titles.text.replace('\\n',\"\").strip())\n",
    "title_ls"
   ]
  },
  {
   "cell_type": "code",
   "execution_count": 5,
   "metadata": {},
   "outputs": [
    {
     "data": {
      "text/plain": [
       "['/31286/',\n",
       " '/31288/',\n",
       " '/31287/',\n",
       " '/31285/',\n",
       " '/31279/',\n",
       " '/31282/',\n",
       " '/31281/',\n",
       " '/31278/',\n",
       " '/31277/',\n",
       " '/31275/']"
      ]
     },
     "execution_count": 5,
     "metadata": {},
     "output_type": "execute_result"
    }
   ],
   "source": [
    "link_ls = []\n",
    "for links in link:\n",
    "    link_ls.append(links['href'])\n",
    "link_ls"
   ]
  },
  {
   "cell_type": "code",
   "execution_count": 6,
   "metadata": {},
   "outputs": [
    {
     "data": {
      "text/plain": [
       "['2020.11.20.',\n",
       " '2020.11.20.',\n",
       " '2020.11.20.',\n",
       " '2020.11.20.',\n",
       " '2020.11.19.',\n",
       " '2020.11.19.',\n",
       " '2020.11.19.',\n",
       " '2020.11.18.',\n",
       " '2020.11.18.',\n",
       " '2020.11.18.']"
      ]
     },
     "execution_count": 6,
     "metadata": {},
     "output_type": "execute_result"
    }
   ],
   "source": [
    "date_ls = []\n",
    "for dates in date:\n",
    "    date_ls.append(dates.text)\n",
    "date_ls"
   ]
  },
  {
   "cell_type": "code",
   "execution_count": 7,
   "metadata": {},
   "outputs": [
    {
     "name": "stdout",
     "output_type": "stream",
     "text": [
      "1 2 3 4 5 6 7 8 9 "
     ]
    }
   ],
   "source": [
    "title_ls, link_ls, date_ls = [], [], []\n",
    "article = {}\n",
    "for url_num in range(1,10):\n",
    "    url = \"https://it.donga.com/news/?page={}\".format(url_num)\n",
    "    response = requests.get(url)\n",
    "    html = response.text\n",
    "    dom = BeautifulSoup(html, 'html.parser')\n",
    "    for titles in title:\n",
    "        title_ls.append(titles.text.replace('\\n',\"\").strip())\n",
    "    for links in link:\n",
    "        link_ls.append(links['href'])\n",
    "    for dates in date:\n",
    "        date_ls.append(dates.text)\n",
    "        if date_ls[-1].split(' ')[0] == '2019.01.01':\n",
    "            break\n",
    "\n",
    "    print(url_num, end= ' ')\n",
    "    time.sleep(1)\n",
    "\n",
    "article['title'] = title_ls\n",
    "article['link'] = link_ls\n",
    "article['date'] = date_ls"
   ]
  },
  {
   "cell_type": "code",
   "execution_count": 8,
   "metadata": {},
   "outputs": [],
   "source": [
    "it_donga = pd.DataFrame(article)\n",
    "it_donga.to_excel('it_donga_article.xlsx', index=False)"
   ]
  },
  {
   "cell_type": "code",
   "execution_count": 9,
   "metadata": {},
   "outputs": [
    {
     "data": {
      "text/html": [
       "<div>\n",
       "<style scoped>\n",
       "    .dataframe tbody tr th:only-of-type {\n",
       "        vertical-align: middle;\n",
       "    }\n",
       "\n",
       "    .dataframe tbody tr th {\n",
       "        vertical-align: top;\n",
       "    }\n",
       "\n",
       "    .dataframe thead th {\n",
       "        text-align: right;\n",
       "    }\n",
       "</style>\n",
       "<table border=\"1\" class=\"dataframe\">\n",
       "  <thead>\n",
       "    <tr style=\"text-align: right;\">\n",
       "      <th></th>\n",
       "      <th>title</th>\n",
       "      <th>link</th>\n",
       "      <th>date</th>\n",
       "    </tr>\n",
       "  </thead>\n",
       "  <tbody>\n",
       "    <tr>\n",
       "      <th>0</th>\n",
       "      <td>[기술창업] 서부경기문화창조허브 - 와이캣 전성우 대표 \"스마트폰 거치링, 이제 꺼...</td>\n",
       "      <td>/31286/</td>\n",
       "      <td>2020.11.20.</td>\n",
       "    </tr>\n",
       "    <tr>\n",
       "      <th>1</th>\n",
       "      <td>엔비디아의 8부 능선은 넘었다··· AMD 라데온 RX 6000 시리즈 정식 출시</td>\n",
       "      <td>/31288/</td>\n",
       "      <td>2020.11.20.</td>\n",
       "    </tr>\n",
       "    <tr>\n",
       "      <th>2</th>\n",
       "      <td>[기술창업] 서부경기문화창조허브 - 홀로 정광현,주진 공동대표 \"상상대로 커스터마이...</td>\n",
       "      <td>/31287/</td>\n",
       "      <td>2020.11.20.</td>\n",
       "    </tr>\n",
       "    <tr>\n",
       "      <th>3</th>\n",
       "      <td>[아이디어 융합팩토리] 밍글링 임성철 대표 “글로벌 경험을 집에서, 밍글즈”</td>\n",
       "      <td>/31285/</td>\n",
       "      <td>2020.11.20.</td>\n",
       "    </tr>\n",
       "    <tr>\n",
       "      <th>4</th>\n",
       "      <td>브라더 \"옷도 프린터로 찍는 시대, 누구라도 혁신 가능\"</td>\n",
       "      <td>/31279/</td>\n",
       "      <td>2020.11.19.</td>\n",
       "    </tr>\n",
       "    <tr>\n",
       "      <th>...</th>\n",
       "      <td>...</td>\n",
       "      <td>...</td>\n",
       "      <td>...</td>\n",
       "    </tr>\n",
       "    <tr>\n",
       "      <th>85</th>\n",
       "      <td>알고 보니 한국 토종 기업, 어디가 있을까?</td>\n",
       "      <td>/31282/</td>\n",
       "      <td>2020.11.19.</td>\n",
       "    </tr>\n",
       "    <tr>\n",
       "      <th>86</th>\n",
       "      <td>[에코X경기도] 일상 속의 환경보호, 2020 환상마켓에서 접하자</td>\n",
       "      <td>/31281/</td>\n",
       "      <td>2020.11.19.</td>\n",
       "    </tr>\n",
       "    <tr>\n",
       "      <th>87</th>\n",
       "      <td>애플, 중소 규모 개발사와 상생 노선··· 수수료 현행 30%에서15%로 인하</td>\n",
       "      <td>/31278/</td>\n",
       "      <td>2020.11.18.</td>\n",
       "    </tr>\n",
       "    <tr>\n",
       "      <th>88</th>\n",
       "      <td>[먹거리+IT] 초블레스 한채원 대표 “전통 발효식초, 리아퐁에 담았습니다”</td>\n",
       "      <td>/31277/</td>\n",
       "      <td>2020.11.18.</td>\n",
       "    </tr>\n",
       "    <tr>\n",
       "      <th>89</th>\n",
       "      <td>[기고] 재택근무에서 보안은 더욱 중요해져</td>\n",
       "      <td>/31275/</td>\n",
       "      <td>2020.11.18.</td>\n",
       "    </tr>\n",
       "  </tbody>\n",
       "</table>\n",
       "<p>90 rows × 3 columns</p>\n",
       "</div>"
      ],
      "text/plain": [
       "                                                title     link         date\n",
       "0   [기술창업] 서부경기문화창조허브 - 와이캣 전성우 대표 \"스마트폰 거치링, 이제 꺼...  /31286/  2020.11.20.\n",
       "1       엔비디아의 8부 능선은 넘었다··· AMD 라데온 RX 6000 시리즈 정식 출시  /31288/  2020.11.20.\n",
       "2   [기술창업] 서부경기문화창조허브 - 홀로 정광현,주진 공동대표 \"상상대로 커스터마이...  /31287/  2020.11.20.\n",
       "3          [아이디어 융합팩토리] 밍글링 임성철 대표 “글로벌 경험을 집에서, 밍글즈”  /31285/  2020.11.20.\n",
       "4                     브라더 \"옷도 프린터로 찍는 시대, 누구라도 혁신 가능\"  /31279/  2020.11.19.\n",
       "..                                                ...      ...          ...\n",
       "85                           알고 보니 한국 토종 기업, 어디가 있을까?  /31282/  2020.11.19.\n",
       "86               [에코X경기도] 일상 속의 환경보호, 2020 환상마켓에서 접하자  /31281/  2020.11.19.\n",
       "87        애플, 중소 규모 개발사와 상생 노선··· 수수료 현행 30%에서15%로 인하  /31278/  2020.11.18.\n",
       "88         [먹거리+IT] 초블레스 한채원 대표 “전통 발효식초, 리아퐁에 담았습니다”  /31277/  2020.11.18.\n",
       "89                            [기고] 재택근무에서 보안은 더욱 중요해져  /31275/  2020.11.18.\n",
       "\n",
       "[90 rows x 3 columns]"
      ]
     },
     "execution_count": 9,
     "metadata": {},
     "output_type": "execute_result"
    }
   ],
   "source": [
    "it_donga"
   ]
  },
  {
   "cell_type": "code",
   "execution_count": null,
   "metadata": {},
   "outputs": [],
   "source": []
  }
 ],
 "metadata": {
  "kernelspec": {
   "display_name": "Python 3",
   "language": "python",
   "name": "python3"
  },
  "language_info": {
   "codemirror_mode": {
    "name": "ipython",
    "version": 3
   },
   "file_extension": ".py",
   "mimetype": "text/x-python",
   "name": "python",
   "nbconvert_exporter": "python",
   "pygments_lexer": "ipython3",
   "version": "3.8.3"
  }
 },
 "nbformat": 4,
 "nbformat_minor": 4
}
