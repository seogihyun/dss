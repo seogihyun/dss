{
 "cells": [
  {
   "cell_type": "code",
   "execution_count": 1,
   "metadata": {},
   "outputs": [],
   "source": [
    "import requests, json"
   ]
  },
  {
   "cell_type": "code",
   "execution_count": 2,
   "metadata": {},
   "outputs": [],
   "source": [
    "def send_msg(slack_webhook, msg, channel=\"#dss\", username=\"날씨봇\"):\n",
    "    payload = {\"channel\": channel, \"username\": username, \"text\": msg}\n",
    "    requests.post(slack_webhook, json.dumps(payload))"
   ]
  },
  {
   "cell_type": "code",
   "execution_count": 3,
   "metadata": {},
   "outputs": [],
   "source": [
    "def weather(darksky_key, lat, lon):\n",
    "    url = \"https://api.darksky.net/forecast/{}/{},{}\".format(darksky_key, lat, lon)\n",
    "    response = requests.get(url)\n",
    "    return response.json()[\"daily\"][\"summary\"]"
   ]
  },
  {
   "cell_type": "code",
   "execution_count": 6,
   "metadata": {},
   "outputs": [],
   "source": [
    "slack_webhook = \"https://hooks.slack.com/servic\"\n",
    "darksky_key = \"1fbca7d24d23aef6d35f\""
   ]
  },
  {
   "cell_type": "code",
   "execution_count": 7,
   "metadata": {},
   "outputs": [],
   "source": [
    "msg = weather(darksky_key, 37.5665, 126.9780)\n",
    "send_msg(slack_webhook, msg)"
   ]
  },
  {
   "cell_type": "code",
   "execution_count": null,
   "metadata": {},
   "outputs": [],
   "source": []
  }
 ],
 "metadata": {
  "kernelspec": {
   "display_name": "Python 3",
   "language": "python",
   "name": "python3"
  },
  "language_info": {
   "codemirror_mode": {
    "name": "ipython",
    "version": 3
   },
   "file_extension": ".py",
   "mimetype": "text/x-python",
   "name": "python",
   "nbconvert_exporter": "python",
   "pygments_lexer": "ipython3",
   "version": "3.6.9"
  }
 },
 "nbformat": 4,
 "nbformat_minor": 4
}
