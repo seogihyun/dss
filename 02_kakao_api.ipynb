{
 "cells": [
  {
   "cell_type": "markdown",
   "metadata": {},
   "source": [
    "### 카카오 API 사용\n",
    "- 로컬 : 주소값 > 위도, 경도, 우편번호\n",
    "- 카카오 번역"
   ]
  },
  {
   "cell_type": "markdown",
   "metadata": {},
   "source": [
    "#### 0. Request Token 가져오기"
   ]
  },
  {
   "cell_type": "code",
   "execution_count": 10,
   "metadata": {},
   "outputs": [],
   "source": [
    "APP_KEY = \"161f58f272875578ce3b4a6a9ffcbc55\""
   ]
  },
  {
   "cell_type": "code",
   "execution_count": 3,
   "metadata": {},
   "outputs": [],
   "source": [
    "import requests"
   ]
  },
  {
   "cell_type": "markdown",
   "metadata": {},
   "source": [
    "#### 1. 카카오 로컬\n",
    "- 주소 -> 위도, 경도, 우편번호"
   ]
  },
  {
   "cell_type": "code",
   "execution_count": 14,
   "metadata": {},
   "outputs": [
    {
     "name": "stdout",
     "output_type": "stream",
     "text": [
      "https://dapi.kakao.com/v2/local/search/address.json?query=서울시 성동구 성수이로 113\n"
     ]
    }
   ],
   "source": [
    "url = \"https://dapi.kakao.com/v2/local/search/address.json?query={}\".format(query)\n",
    "print(url)"
   ]
  },
  {
   "cell_type": "code",
   "execution_count": 15,
   "metadata": {},
   "outputs": [],
   "source": [
    "query = \"서울시 성동구 성수이로 113\""
   ]
  },
  {
   "cell_type": "code",
   "execution_count": 16,
   "metadata": {},
   "outputs": [],
   "source": [
    "headers = { \"Authorization\" : \"KakaoAK {}\".format(APP_KEY)}"
   ]
  },
  {
   "cell_type": "code",
   "execution_count": 17,
   "metadata": {},
   "outputs": [
    {
     "data": {
      "text/plain": [
       "<Response [200]>"
      ]
     },
     "execution_count": 17,
     "metadata": {},
     "output_type": "execute_result"
    }
   ],
   "source": [
    "response = requests.get(url, headers=headers)\n",
    "response"
   ]
  },
  {
   "cell_type": "code",
   "execution_count": 18,
   "metadata": {},
   "outputs": [
    {
     "data": {
      "text/plain": [
       "('37.5451422412538', '127.057127702049', '04794')"
      ]
     },
     "execution_count": 18,
     "metadata": {},
     "output_type": "execute_result"
    }
   ],
   "source": [
    "data = response.json()[\"documents\"][0]\n",
    "data['y'], data['x'], data['road_address']['zone_no']"
   ]
  },
  {
   "cell_type": "code",
   "execution_count": 19,
   "metadata": {},
   "outputs": [
    {
     "data": {
      "text/plain": [
       "{'address': {'address_name': '서울 성동구 성수동2가 289-10',\n",
       "  'b_code': '1120011500',\n",
       "  'h_code': '1120069000',\n",
       "  'main_address_no': '289',\n",
       "  'mountain_yn': 'N',\n",
       "  'region_1depth_name': '서울',\n",
       "  'region_2depth_name': '성동구',\n",
       "  'region_3depth_h_name': '성수2가3동',\n",
       "  'region_3depth_name': '성수동2가',\n",
       "  'sub_address_no': '10',\n",
       "  'x': '127.057127702049',\n",
       "  'y': '37.5451422412538'},\n",
       " 'address_name': '서울 성동구 성수이로 113',\n",
       " 'address_type': 'ROAD_ADDR',\n",
       " 'road_address': {'address_name': '서울 성동구 성수이로 113',\n",
       "  'building_name': '제강빌딩',\n",
       "  'main_building_no': '113',\n",
       "  'region_1depth_name': '서울',\n",
       "  'region_2depth_name': '성동구',\n",
       "  'region_3depth_name': '성수동2가',\n",
       "  'road_name': '성수이로',\n",
       "  'sub_building_no': '',\n",
       "  'underground_yn': 'N',\n",
       "  'x': '127.057127702049',\n",
       "  'y': '37.5451422412538',\n",
       "  'zone_no': '04794'},\n",
       " 'x': '127.057127702049',\n",
       " 'y': '37.5451422412538'}"
      ]
     },
     "execution_count": 19,
     "metadata": {},
     "output_type": "execute_result"
    }
   ],
   "source": [
    "data"
   ]
  },
  {
   "cell_type": "markdown",
   "metadata": {},
   "source": [
    "#### 2. 카카오 번역"
   ]
  },
  {
   "cell_type": "code",
   "execution_count": 37,
   "metadata": {},
   "outputs": [],
   "source": [
    "APP_KEY = \"161f58f272875578ce3b4a6a9ffcbc55\""
   ]
  },
  {
   "cell_type": "code",
   "execution_count": 38,
   "metadata": {},
   "outputs": [
    {
     "data": {
      "text/plain": [
       "{'Authorization': 'KakaoAK 161f58f272875578ce3b4a6a9ffcbc55'}"
      ]
     },
     "execution_count": 38,
     "metadata": {},
     "output_type": "execute_result"
    }
   ],
   "source": [
    "headers = { \"Authorization\" : \"KakaoAK {}\".format(APP_KEY)}\n",
    "headers"
   ]
  },
  {
   "cell_type": "code",
   "execution_count": 39,
   "metadata": {},
   "outputs": [
    {
     "data": {
      "text/plain": [
       "<Response [200]>"
      ]
     },
     "execution_count": 39,
     "metadata": {},
     "output_type": "execute_result"
    }
   ],
   "source": [
    "query = \"데이터 사이언스는 재미있습니다.\"\n",
    "src_lang, target_lang = 'kr', 'en'\n",
    "url = \"https://dapi.kakao.com/v2/translation/translate?query={}&src_lang={}&target_lang={}\".format(query, src_lang, target_lang)\n",
    "response = requests.get(url, headers=headers)\n",
    "response"
   ]
  },
  {
   "cell_type": "code",
   "execution_count": 40,
   "metadata": {},
   "outputs": [
    {
     "data": {
      "text/plain": [
       "'Data science is fun.'"
      ]
     },
     "execution_count": 40,
     "metadata": {},
     "output_type": "execute_result"
    }
   ],
   "source": [
    "response.json()['translated_text'][0][0]"
   ]
  },
  {
   "cell_type": "code",
   "execution_count": null,
   "metadata": {},
   "outputs": [],
   "source": []
  },
  {
   "cell_type": "code",
   "execution_count": null,
   "metadata": {},
   "outputs": [],
   "source": []
  }
 ],
 "metadata": {
  "kernelspec": {
   "display_name": "Python 3",
   "language": "python",
   "name": "python3"
  },
  "language_info": {
   "codemirror_mode": {
    "name": "ipython",
    "version": 3
   },
   "file_extension": ".py",
   "mimetype": "text/x-python",
   "name": "python",
   "nbconvert_exporter": "python",
   "pygments_lexer": "ipython3",
   "version": "3.6.9"
  }
 },
 "nbformat": 4,
 "nbformat_minor": 4
}
