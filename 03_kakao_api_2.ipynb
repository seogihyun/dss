{
 "cells": [
  {
   "cell_type": "markdown",
   "metadata": {},
   "source": [
    "#### 카카오톡 메시지 보내기\n",
    "- 사용자 인증이 필요한 API"
   ]
  },
  {
   "cell_type": "code",
   "execution_count": 22,
   "metadata": {},
   "outputs": [],
   "source": [
    "import requests"
   ]
  },
  {
   "cell_type": "code",
   "execution_count": 1,
   "metadata": {},
   "outputs": [],
   "source": [
    "# 1. APP 등록 -> Request Token"
   ]
  },
  {
   "cell_type": "code",
   "execution_count": 13,
   "metadata": {},
   "outputs": [],
   "source": [
    "API_KEY = \"161f58f272875578ce3b4a6a9ffcbc55\"\n",
    "REDIRECT_URI = \"https://fastcampus.co.kr/oauth\""
   ]
  },
  {
   "cell_type": "code",
   "execution_count": 14,
   "metadata": {},
   "outputs": [],
   "source": [
    "# 2. Oauth로 사용자 동의 얻기 -> Access Token"
   ]
  },
  {
   "cell_type": "code",
   "execution_count": 15,
   "metadata": {},
   "outputs": [],
   "source": [
    "# 2-1. Request Token -> authorize code : 로그인 인증"
   ]
  },
  {
   "cell_type": "code",
   "execution_count": 16,
   "metadata": {},
   "outputs": [],
   "source": [
    "# 사용자 로그인 및 권한 획득을 위한 oauth 웹페이지 URL"
   ]
  },
  {
   "cell_type": "code",
   "execution_count": 17,
   "metadata": {},
   "outputs": [
    {
     "name": "stdout",
     "output_type": "stream",
     "text": [
      "https://kauth.kakao.com/oauth/authorize?client_id=161f58f272875578ce3b4a6a9ffcbc55&redirect_uri=https://fastcampus.co.kr/oauth&response_type=code\n"
     ]
    }
   ],
   "source": [
    "url = \"https://kauth.kakao.com/oauth/authorize?\\\n",
    "client_id={REST_API_KEY}&redirect_uri={REDIRECT_URI}&response_type=code\"\\\n",
    ".format(REST_API_KEY=API_KEY, REDIRECT_URI=REDIRECT_URI)\n",
    "print(url)"
   ]
  },
  {
   "cell_type": "code",
   "execution_count": null,
   "metadata": {},
   "outputs": [],
   "source": [
    "# authorize_code는 1회만 사용 가능\n",
    "authorize_code = \"z1djItLruZxg0JyBa0tfCR3UAZw4ePwsM7ijp5WcO8b8Lnjrg6zPWY5M8IVKal-yHVZ0Owo9dNoAAAF12gqxuQ\""
   ]
  },
  {
   "cell_type": "code",
   "execution_count": 19,
   "metadata": {},
   "outputs": [],
   "source": [
    "# 2-2. authorize code -> Access Token"
   ]
  },
  {
   "cell_type": "code",
   "execution_count": 24,
   "metadata": {},
   "outputs": [
    {
     "data": {
      "text/plain": [
       "<Response [200]>"
      ]
     },
     "execution_count": 24,
     "metadata": {},
     "output_type": "execute_result"
    }
   ],
   "source": [
    "url = \"https://kauth.kakao.com/oauth/token\"\n",
    "params = {\n",
    "    \"grant_type\" : \"authorization_code\",\n",
    "    \"client_id\" : API_KEY,\n",
    "    \"redirect_uri\" : REDIRECT_URI,\n",
    "    \"code\" : authorize_code,\n",
    "}\n",
    "response = requests.post(url, params)\n",
    "response"
   ]
  },
  {
   "cell_type": "code",
   "execution_count": 27,
   "metadata": {},
   "outputs": [
    {
     "data": {
      "text/plain": [
       "{'access_token': '47ZPiYYDc8U0a6JQMNNnMaJYWlgTYHG_jHOYqQopyWAAAAF12hBI-w',\n",
       " 'token_type': 'bearer',\n",
       " 'refresh_token': 'QjKDN6x2YhDIau3A4clR9g7xSu89U46FOeVI-wopyWAAAAF12hBI-g',\n",
       " 'expires_in': 21599,\n",
       " 'scope': 'talk_message profile',\n",
       " 'refresh_token_expires_in': 5183999}"
      ]
     },
     "execution_count": 27,
     "metadata": {},
     "output_type": "execute_result"
    }
   ],
   "source": [
    "user_datas = response.json()\n",
    "user_datas"
   ]
  },
  {
   "cell_type": "code",
   "execution_count": 21,
   "metadata": {},
   "outputs": [],
   "source": [
    "# 3. Request(Access Token) -> Data(프로필 정보 가져오기)"
   ]
  },
  {
   "cell_type": "code",
   "execution_count": 29,
   "metadata": {},
   "outputs": [
    {
     "data": {
      "text/plain": [
       "<Response [200]>"
      ]
     },
     "execution_count": 29,
     "metadata": {},
     "output_type": "execute_result"
    }
   ],
   "source": [
    "url = \"https://kapi.kakao.com//v2/user/me\"\n",
    "headers = {\n",
    "    \"Authorization\": \"Bearer {}\".format(user_datas['access_token'])}\n",
    "response = requests.get(url, headers=headers)\n",
    "response"
   ]
  },
  {
   "cell_type": "code",
   "execution_count": 31,
   "metadata": {},
   "outputs": [
    {
     "data": {
      "text/plain": [
       "{'id': 1535615283,\n",
       " 'connected_at': '2020-11-18T06:35:02Z',\n",
       " 'properties': {'nickname': '서기현'},\n",
       " 'kakao_account': {'profile_needs_agreement': False,\n",
       "  'profile': {'nickname': '서기현'}}}"
      ]
     },
     "execution_count": 31,
     "metadata": {},
     "output_type": "execute_result"
    }
   ],
   "source": [
    "response.json()"
   ]
  },
  {
   "cell_type": "code",
   "execution_count": null,
   "metadata": {},
   "outputs": [],
   "source": [
    "%%html\n",
    "<img src=\"\" width=\"px;\">"
   ]
  },
  {
   "cell_type": "code",
   "execution_count": 32,
   "metadata": {},
   "outputs": [],
   "source": [
    "# 4. 카카오톡 메시지 전송\n",
    "# 템플릿 만들기 -> 메시지로 템플릿 전송"
   ]
  },
  {
   "cell_type": "code",
   "execution_count": 34,
   "metadata": {},
   "outputs": [],
   "source": [
    "# 4-1. 텍스트 템플릿(dict) 만들기"
   ]
  },
  {
   "cell_type": "code",
   "execution_count": 37,
   "metadata": {},
   "outputs": [
    {
     "data": {
      "text/plain": [
       "{'object_type': 'text',\n",
       " 'text': '반드시 클릭하세요!! https:hacking.com',\n",
       " 'link': {'web_url': 'https://fastcampus.co.kr',\n",
       "  'mobile_web_url': 'https://m.fastcampus.co.kr'},\n",
       " 'button_title': '바로 확인!!!'}"
      ]
     },
     "execution_count": 37,
     "metadata": {},
     "output_type": "execute_result"
    }
   ],
   "source": [
    "msg = \"반드시 클릭하세요!! https:hacking.com\"\n",
    "\n",
    "params = {\n",
    "    \"object_type\" : \"text\",\n",
    "    \"text\" : msg,\n",
    "    \"link\" : {\n",
    "        \"web_url\" : \"https://fastcampus.co.kr\",\n",
    "        \"mobile_web_url\" : \"https://m.fastcampus.co.kr\",\n",
    "    },\n",
    "    \"button_title\" : \"바로 확인!!!\"\n",
    "}\n",
    "params"
   ]
  },
  {
   "cell_type": "code",
   "execution_count": null,
   "metadata": {},
   "outputs": [],
   "source": [
    "# 4-2. 템플릿을 담아 메시지 전송"
   ]
  },
  {
   "cell_type": "code",
   "execution_count": 62,
   "metadata": {},
   "outputs": [],
   "source": [
    "import json"
   ]
  },
  {
   "cell_type": "code",
   "execution_count": 65,
   "metadata": {},
   "outputs": [],
   "source": [
    "url = \"https://kapi.kakao.com/v2/api/talk/memo/default/send\"\n",
    "headers = {\n",
    "    \"Content-Type\" : \"application/x-www-form-urlencoded\",\n",
    "    \"Authorization\": \"Bearer {}\".format(user_datas['access_token']),\n",
    "}"
   ]
  },
  {
   "cell_type": "code",
   "execution_count": 67,
   "metadata": {},
   "outputs": [
    {
     "data": {
      "text/plain": [
       "<Response [200]>"
      ]
     },
     "execution_count": 67,
     "metadata": {},
     "output_type": "execute_result"
    }
   ],
   "source": [
    "payload = 'template_object=' + str(json.dumps(params))\n",
    "response = requests.post(url, payload, headers=headers)\n",
    "response"
   ]
  },
  {
   "cell_type": "code",
   "execution_count": null,
   "metadata": {},
   "outputs": [],
   "source": []
  },
  {
   "cell_type": "code",
   "execution_count": null,
   "metadata": {},
   "outputs": [],
   "source": []
  },
  {
   "cell_type": "code",
   "execution_count": null,
   "metadata": {},
   "outputs": [],
   "source": []
  }
 ],
 "metadata": {
  "kernelspec": {
   "display_name": "Python 3",
   "language": "python",
   "name": "python3"
  },
  "language_info": {
   "codemirror_mode": {
    "name": "ipython",
    "version": 3
   },
   "file_extension": ".py",
   "mimetype": "text/x-python",
   "name": "python",
   "nbconvert_exporter": "python",
   "pygments_lexer": "ipython3",
   "version": "3.6.9"
  }
 },
 "nbformat": 4,
 "nbformat_minor": 4
}
