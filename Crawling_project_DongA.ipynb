{
 "cells": [
  {
   "cell_type": "code",
   "execution_count": 4,
   "metadata": {},
   "outputs": [],
   "source": [
    "import requests\n",
    "import pandas as pd\n",
    "import time\n",
    "from bs4 import BeautifulSoup"
   ]
  },
  {
   "cell_type": "code",
   "execution_count": 5,
   "metadata": {},
   "outputs": [],
   "source": [
    "category, page, date = \"Economy\", 21, 20201120\n",
    "url = \"https://www.donga.com/news/{}/List?p={}&prod=news&ymd={}&m=\".format(category, page, date)\n",
    "response = requests.get(url)\n",
    "html = response.text\n",
    "dom = BeautifulSoup(html, 'html.parser')"
   ]
  },
  {
   "cell_type": "code",
   "execution_count": 23,
   "metadata": {},
   "outputs": [],
   "source": [
    "title = dom.select(\"#content > div > div.rightList > a > span.tit\")\n",
    "link = dom.select('#content > div > div.rightList > a')\n",
    "# content = dom.select(\"body > main > div > div > div > article > p\")\n",
    "date = dom.select(\"#content > div > div.rightList > a > span.date\")"
   ]
  },
  {
   "cell_type": "code",
   "execution_count": 24,
   "metadata": {},
   "outputs": [
    {
     "data": {
      "text/plain": [
       "20"
      ]
     },
     "execution_count": 24,
     "metadata": {},
     "output_type": "execute_result"
    }
   ],
   "source": [
    "len(link)"
   ]
  },
  {
   "cell_type": "code",
   "execution_count": 11,
   "metadata": {},
   "outputs": [
    {
     "data": {
      "text/plain": [
       "['‘초실감형’ 사이버 견본주택 구현… 호반건설, KT와 확장현실 플랫폼 기술 개발',\n",
       " '대한항공 “중복노선 통폐합 없다…인력 감축도 안할 것”',\n",
       " '내년 서울 오피스텔 기준 시가 5.9% 오른다…세종은 1.2% 내려',\n",
       " '17만 소액주주 운명 걸린 신라젠…상폐여부 30일 결정된다',\n",
       " '하우빌드-KD리빙, 중소형 주택 마스터 리스 관련 MOU 체결',\n",
       " '‘세계 1위’ 고진영, 올해 첫 LPGA 출전…1R 공동 46위',\n",
       " '현대차, 광저우서 최첨단 ‘밍투’ 첫 공개… 중국 공략 가속화',\n",
       " '“이런 모습은 남친에게만”…상대 따라 ‘카톡 프로필’ 달라진다',\n",
       " '대법 “3%룰 등 상법개정안 신중 검토해야” 의견 제출',\n",
       " '[아이디어 융합팩토리] 밍글링 임성철 대표 “글로벌 경험을 집에서, 밍글즈”',\n",
       " '대림건설, 인천시 화재 취약 가구 지원금 1억원 전달',\n",
       " '대우건설 푸르지오, 2년 연속 ‘굿디자인 어워드’ 수상',\n",
       " 'MINI 고성능 ‘JCW GP’ 한정판에 한국타이어 장착',\n",
       " '국토부 “임대차 3법, 국민소득 3만 달러에 겪어야 할 성장통”',\n",
       " '현대차, 상하이 유즈 미술관서 ‘아트+테크 프로그램’ 실시',\n",
       " '재난지원금 효과 없었다…분배 도움 안되고 소비효과도 ‘뚝’',\n",
       " 'KCGI, 한진칼 임시주총 요구…“아시아나 인수, 주주들에 묻겠다”',\n",
       " '코스피 0.1% 약보합 개장…달러/원 환율 0.6원↓',\n",
       " 'LPGA 복귀 고진영, 펠리컨 챔피언십 1R 2오버파 공동 46위',\n",
       " '취업준비생 58.2% “알바 병행 중”']"
      ]
     },
     "execution_count": 11,
     "metadata": {},
     "output_type": "execute_result"
    }
   ],
   "source": [
    "title_ls = []\n",
    "for titles in title:\n",
    "    title_ls.append(titles.text.replace('\\n',\"\").strip())\n",
    "title_ls"
   ]
  },
  {
   "cell_type": "code",
   "execution_count": 31,
   "metadata": {},
   "outputs": [
    {
     "data": {
      "text/plain": [
       "['https://www.donga.com/news/List/article/all/20201120/104066889/2',\n",
       " 'https://www.donga.com/news/Economy/article/all/20201120/104065906/1',\n",
       " 'https://www.donga.com/news/Economy/article/all/20201120/104065876/1',\n",
       " 'https://www.donga.com/news/Economy/article/all/20201120/104065857/1',\n",
       " 'https://www.donga.com/news/Economy/article/all/20201120/104065471/2',\n",
       " 'https://www.donga.com/news/Sports/article/all/20201120/104064464/1',\n",
       " 'https://www.donga.com/news/List/article/all/20201120/104063561/3',\n",
       " 'https://www.donga.com/news/It/article/all/20201120/104063984/1',\n",
       " 'https://www.donga.com/news/Economy/article/all/20201120/104063769/1',\n",
       " 'https://www.donga.com/news/It/article/all/20201120/104063315/1',\n",
       " 'https://www.donga.com/news/List/article/all/20201120/104062900/2',\n",
       " 'https://www.donga.com/news/List/article/all/20201120/104062771/2',\n",
       " 'https://www.donga.com/news/List/article/all/20201120/104062509/2',\n",
       " 'https://www.donga.com/news/Economy/article/all/20201120/104062308/2',\n",
       " 'https://www.donga.com/news/List/article/all/20201120/104062280/2',\n",
       " 'https://www.donga.com/news/Economy/article/all/20201120/104062143/1',\n",
       " 'https://www.donga.com/news/Economy/article/all/20201120/104062062/1',\n",
       " 'https://www.donga.com/news/Economy/article/all/20201120/104061633/1',\n",
       " 'https://www.donga.com/news/Sports/article/all/20201120/104060893/1',\n",
       " 'https://www.donga.com/news/Economy/article/all/20201120/104060891/1']"
      ]
     },
     "execution_count": 31,
     "metadata": {},
     "output_type": "execute_result"
    }
   ],
   "source": [
    "link_ls = []\n",
    "for links in link:\n",
    "    link_ls.append(links[\"href\"])\n",
    "link_ls"
   ]
  },
  {
   "cell_type": "code",
   "execution_count": 28,
   "metadata": {},
   "outputs": [
    {
     "data": {
      "text/plain": [
       "['2020-11-20 13:40',\n",
       " '2020-11-20 12:07',\n",
       " '2020-11-20 12:05',\n",
       " '2020-11-20 12:03',\n",
       " '2020-11-20 11:37',\n",
       " '2020-11-20 11:08',\n",
       " '2020-11-20 11:00',\n",
       " '2020-11-20 10:54',\n",
       " '2020-11-20 10:47',\n",
       " '2020-11-20 10:19',\n",
       " '2020-11-20 10:14',\n",
       " '2020-11-20 10:09',\n",
       " '2020-11-20 09:53',\n",
       " '2020-11-20 09:50',\n",
       " '2020-11-20 09:43',\n",
       " '2020-11-20 09:43',\n",
       " '2020-11-20 09:39',\n",
       " '2020-11-20 09:18',\n",
       " '2020-11-20 08:31',\n",
       " '2020-11-20 08:30']"
      ]
     },
     "execution_count": 28,
     "metadata": {},
     "output_type": "execute_result"
    }
   ],
   "source": [
    "date_ls = []\n",
    "for dates in date:\n",
    "    date_ls.append(dates.text)\n",
    "date_ls"
   ]
  },
  {
   "cell_type": "code",
   "execution_count": 29,
   "metadata": {},
   "outputs": [
    {
     "name": "stdout",
     "output_type": "stream",
     "text": [
      "1 2 3 4 5 6 7 8 9 "
     ]
    }
   ],
   "source": [
    "title_ls, link_ls, date_ls = [], [], []\n",
    "article = {}\n",
    "category = [\"Economy\", \"Society\", \"Culture\"]\n",
    "page = range\n",
    "# 시간\n",
    "# start = datetime.datetime(2019,1,1)\n",
    "# end = datetime.datetime.today()\n",
    "# daterange = [start + datetime.timedelta(days=x) for x in range(0, (end-start).days)]\n",
    "\n",
    "for url_num in range(1,10):\n",
    "    url = \"https://www.donga.com/news/{}/List?p={}&prod=news&ymd={}&m=\".format(category, page, date)\n",
    "    response = requests.get(url)\n",
    "    html = response.text\n",
    "    dom = BeautifulSoup(html, 'html.parser')\n",
    "    for titles in title:\n",
    "        title_ls.append(titles.text.replace('\\n',\"\").strip())\n",
    "    for links in link:\n",
    "        link_ls.append(links['href'])\n",
    "    for dates in date:\n",
    "        date_ls.append(dates.text)\n",
    "        if date_ls[-1].split(' ')[0] == '2019.01.01':\n",
    "            break\n",
    "\n",
    "    print(url_num, end= ' ')\n",
    "    time.sleep(1)\n",
    "\n",
    "article['title'] = title_ls\n",
    "article['link'] = link_ls\n",
    "article['date'] = date_ls"
   ]
  },
  {
   "cell_type": "code",
   "execution_count": 104,
   "metadata": {},
   "outputs": [],
   "source": [
    "donga = pd.DataFrame(article)\n",
    "donga.to_excel('donga_article.xlsx', index=False)"
   ]
  },
  {
   "cell_type": "code",
   "execution_count": null,
   "metadata": {},
   "outputs": [],
   "source": [
    "donga"
   ]
  }
 ],
 "metadata": {
  "kernelspec": {
   "display_name": "Python 3",
   "language": "python",
   "name": "python3"
  },
  "language_info": {
   "codemirror_mode": {
    "name": "ipython",
    "version": 3
   },
   "file_extension": ".py",
   "mimetype": "text/x-python",
   "name": "python",
   "nbconvert_exporter": "python",
   "pygments_lexer": "ipython3",
   "version": "3.8.3"
  }
 },
 "nbformat": 4,
 "nbformat_minor": 4
}
